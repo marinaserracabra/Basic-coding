{
 "cells": [
  {
   "cell_type": "markdown",
   "id": "0dbc00cb-cb46-44ba-84a0-e44845e1fb25",
   "metadata": {},
   "source": [
    "# Evaluation of the prediction of solar storms in 2024"
   ]
  },
  {
   "cell_type": "code",
   "execution_count": 3,
   "id": "fa1cf8e3-bde4-4934-a767-eeccff506846",
   "metadata": {},
   "outputs": [
    {
     "name": "stderr",
     "output_type": "stream",
     "text": [
      "/home/christopher/env/magpy/lib/python3.12/site-packages/magpy/stream.py:289: UserWarning: pkg_resources is deprecated as an API. See https://setuptools.pypa.io/en/latest/pkg_resources.html. The pkg_resources package is slated for removal as early as 2025-11-30. Refrain from using this package or pin to Setuptools<81.\n",
      "  from pkg_resources import resource_filename\n"
     ]
    }
   ],
   "source": [
    "from magpy.stream import read\n",
    "from magpy.core import plot as mp\n",
    "\n",
    "import json\n",
    "import numpy as np\n",
    "import pandas as pd\n",
    "\n",
    "import matplotlib.pyplot as plt\n",
    "import matplotlib"
   ]
  },
  {
   "cell_type": "code",
   "execution_count": 4,
   "id": "08b03681-26f0-4776-8043-dfc3ccaf82f7",
   "metadata": {},
   "outputs": [
    {
     "data": {
      "text/html": [
       "<div>\n",
       "<style scoped>\n",
       "    .dataframe tbody tr th:only-of-type {\n",
       "        vertical-align: middle;\n",
       "    }\n",
       "\n",
       "    .dataframe tbody tr th {\n",
       "        vertical-align: top;\n",
       "    }\n",
       "\n",
       "    .dataframe thead th {\n",
       "        text-align: right;\n",
       "    }\n",
       "</style>\n",
       "<table border=\"1\" class=\"dataframe\">\n",
       "  <thead>\n",
       "    <tr style=\"text-align: right;\">\n",
       "      <th></th>\n",
       "      <th>Unnamed: 0</th>\n",
       "      <th>index</th>\n",
       "      <th>start</th>\n",
       "      <th>arrival</th>\n",
       "      <th>KPrange</th>\n",
       "      <th>Kp</th>\n",
       "      <th>K</th>\n",
       "      <th>InRangeGlobal</th>\n",
       "      <th>InRangeLocal</th>\n",
       "      <th>timingKp</th>\n",
       "      <th>timingK</th>\n",
       "      <th>Onsetdst</th>\n",
       "    </tr>\n",
       "  </thead>\n",
       "  <tbody>\n",
       "    <tr>\n",
       "      <th>0</th>\n",
       "      <td>0</td>\n",
       "      <td>CME-20240105T015300</td>\n",
       "      <td>2024-01-05T01:53:00</td>\n",
       "      <td>2024-01-08T09:39:00</td>\n",
       "      <td>2.66667 - 5.0</td>\n",
       "      <td>0.000000</td>\n",
       "      <td>1.0</td>\n",
       "      <td>lower</td>\n",
       "      <td>lower</td>\n",
       "      <td>FA</td>\n",
       "      <td>FA</td>\n",
       "      <td>FA</td>\n",
       "    </tr>\n",
       "    <tr>\n",
       "      <th>1</th>\n",
       "      <td>1</td>\n",
       "      <td>CME-20240106T081200</td>\n",
       "      <td>2024-01-06T08:12:00</td>\n",
       "      <td>2024-01-09T13:00:00</td>\n",
       "      <td>2.0 - 4.5</td>\n",
       "      <td>1.000000</td>\n",
       "      <td>2.0</td>\n",
       "      <td>lower</td>\n",
       "      <td>yes</td>\n",
       "      <td>M</td>\n",
       "      <td>H</td>\n",
       "      <td>FA</td>\n",
       "    </tr>\n",
       "    <tr>\n",
       "      <th>2</th>\n",
       "      <td>2</td>\n",
       "      <td>CME-20240106T173600</td>\n",
       "      <td>2024-01-06T17:36:00</td>\n",
       "      <td>2024-01-10T01:00:00</td>\n",
       "      <td>2.0 - 4.0</td>\n",
       "      <td>1.000000</td>\n",
       "      <td>2.0</td>\n",
       "      <td>lower</td>\n",
       "      <td>yes</td>\n",
       "      <td>H</td>\n",
       "      <td>H</td>\n",
       "      <td>FA</td>\n",
       "    </tr>\n",
       "    <tr>\n",
       "      <th>3</th>\n",
       "      <td>3</td>\n",
       "      <td>CME-20240109T154800</td>\n",
       "      <td>2024-01-09T15:48:00</td>\n",
       "      <td>2024-01-12T10:00:00</td>\n",
       "      <td>3.0 - 4.5</td>\n",
       "      <td>0.333333</td>\n",
       "      <td>0.0</td>\n",
       "      <td>lower</td>\n",
       "      <td>lower</td>\n",
       "      <td>FA</td>\n",
       "      <td>FA</td>\n",
       "      <td>FA</td>\n",
       "    </tr>\n",
       "    <tr>\n",
       "      <th>4</th>\n",
       "      <td>4</td>\n",
       "      <td>CME-20240120T092400</td>\n",
       "      <td>2024-01-20T09:24:00</td>\n",
       "      <td>2024-01-22T16:50:00</td>\n",
       "      <td>4.44444 - 6.44444</td>\n",
       "      <td>2.000000</td>\n",
       "      <td>2.0</td>\n",
       "      <td>lower</td>\n",
       "      <td>lower</td>\n",
       "      <td>M</td>\n",
       "      <td>FA</td>\n",
       "      <td>FA</td>\n",
       "    </tr>\n",
       "    <tr>\n",
       "      <th>...</th>\n",
       "      <td>...</td>\n",
       "      <td>...</td>\n",
       "      <td>...</td>\n",
       "      <td>...</td>\n",
       "      <td>...</td>\n",
       "      <td>...</td>\n",
       "      <td>...</td>\n",
       "      <td>...</td>\n",
       "      <td>...</td>\n",
       "      <td>...</td>\n",
       "      <td>...</td>\n",
       "      <td>...</td>\n",
       "    </tr>\n",
       "    <tr>\n",
       "      <th>181</th>\n",
       "      <td>181</td>\n",
       "      <td>CME-20241226T191200</td>\n",
       "      <td>2024-12-26T19:12:00</td>\n",
       "      <td>2024-12-30T13:00:00</td>\n",
       "      <td>2.0 - 3.0</td>\n",
       "      <td>1.000000</td>\n",
       "      <td>1.0</td>\n",
       "      <td>lower</td>\n",
       "      <td>lower</td>\n",
       "      <td>M</td>\n",
       "      <td>M</td>\n",
       "      <td>FA</td>\n",
       "    </tr>\n",
       "    <tr>\n",
       "      <th>182</th>\n",
       "      <td>182</td>\n",
       "      <td>CME-20241228T064800</td>\n",
       "      <td>2024-12-28T06:48:00</td>\n",
       "      <td>2025-01-01T10:00:00</td>\n",
       "      <td>2.0 - 4.0</td>\n",
       "      <td>NaN</td>\n",
       "      <td>NaN</td>\n",
       "      <td>NaN</td>\n",
       "      <td>NaN</td>\n",
       "      <td>NaN</td>\n",
       "      <td>NaN</td>\n",
       "      <td>FA</td>\n",
       "    </tr>\n",
       "    <tr>\n",
       "      <th>183</th>\n",
       "      <td>183</td>\n",
       "      <td>CME-20241229T012300</td>\n",
       "      <td>2024-12-29T01:23:00</td>\n",
       "      <td>2024-12-31T16:51:00</td>\n",
       "      <td>4.66667 - 6.33333</td>\n",
       "      <td>NaN</td>\n",
       "      <td>NaN</td>\n",
       "      <td>NaN</td>\n",
       "      <td>NaN</td>\n",
       "      <td>NaN</td>\n",
       "      <td>NaN</td>\n",
       "      <td>FA</td>\n",
       "    </tr>\n",
       "    <tr>\n",
       "      <th>184</th>\n",
       "      <td>184</td>\n",
       "      <td>CME-20241229T062400</td>\n",
       "      <td>2024-12-29T06:24:00</td>\n",
       "      <td>2024-12-31T16:11:00</td>\n",
       "      <td>5.11111 - 7.22222</td>\n",
       "      <td>NaN</td>\n",
       "      <td>NaN</td>\n",
       "      <td>NaN</td>\n",
       "      <td>NaN</td>\n",
       "      <td>NaN</td>\n",
       "      <td>NaN</td>\n",
       "      <td>FA</td>\n",
       "    </tr>\n",
       "    <tr>\n",
       "      <th>185</th>\n",
       "      <td>185</td>\n",
       "      <td>CME-20241229T182400</td>\n",
       "      <td>2024-12-29T18:24:00</td>\n",
       "      <td>2025-01-01T04:48:00</td>\n",
       "      <td>4.8 - 6.4</td>\n",
       "      <td>NaN</td>\n",
       "      <td>NaN</td>\n",
       "      <td>NaN</td>\n",
       "      <td>NaN</td>\n",
       "      <td>NaN</td>\n",
       "      <td>NaN</td>\n",
       "      <td>FA</td>\n",
       "    </tr>\n",
       "  </tbody>\n",
       "</table>\n",
       "<p>186 rows × 12 columns</p>\n",
       "</div>"
      ],
      "text/plain": [
       "     Unnamed: 0                index                start  \\\n",
       "0             0  CME-20240105T015300  2024-01-05T01:53:00   \n",
       "1             1  CME-20240106T081200  2024-01-06T08:12:00   \n",
       "2             2  CME-20240106T173600  2024-01-06T17:36:00   \n",
       "3             3  CME-20240109T154800  2024-01-09T15:48:00   \n",
       "4             4  CME-20240120T092400  2024-01-20T09:24:00   \n",
       "..          ...                  ...                  ...   \n",
       "181         181  CME-20241226T191200  2024-12-26T19:12:00   \n",
       "182         182  CME-20241228T064800  2024-12-28T06:48:00   \n",
       "183         183  CME-20241229T012300  2024-12-29T01:23:00   \n",
       "184         184  CME-20241229T062400  2024-12-29T06:24:00   \n",
       "185         185  CME-20241229T182400  2024-12-29T18:24:00   \n",
       "\n",
       "                 arrival            KPrange        Kp    K InRangeGlobal  \\\n",
       "0    2024-01-08T09:39:00      2.66667 - 5.0  0.000000  1.0         lower   \n",
       "1    2024-01-09T13:00:00          2.0 - 4.5  1.000000  2.0         lower   \n",
       "2    2024-01-10T01:00:00          2.0 - 4.0  1.000000  2.0         lower   \n",
       "3    2024-01-12T10:00:00          3.0 - 4.5  0.333333  0.0         lower   \n",
       "4    2024-01-22T16:50:00  4.44444 - 6.44444  2.000000  2.0         lower   \n",
       "..                   ...                ...       ...  ...           ...   \n",
       "181  2024-12-30T13:00:00          2.0 - 3.0  1.000000  1.0         lower   \n",
       "182  2025-01-01T10:00:00          2.0 - 4.0       NaN  NaN           NaN   \n",
       "183  2024-12-31T16:51:00  4.66667 - 6.33333       NaN  NaN           NaN   \n",
       "184  2024-12-31T16:11:00  5.11111 - 7.22222       NaN  NaN           NaN   \n",
       "185  2025-01-01T04:48:00          4.8 - 6.4       NaN  NaN           NaN   \n",
       "\n",
       "    InRangeLocal timingKp timingK Onsetdst  \n",
       "0          lower       FA      FA       FA  \n",
       "1            yes        M       H       FA  \n",
       "2            yes        H       H       FA  \n",
       "3          lower       FA      FA       FA  \n",
       "4          lower        M      FA       FA  \n",
       "..           ...      ...     ...      ...  \n",
       "181        lower        M       M       FA  \n",
       "182          NaN      NaN     NaN       FA  \n",
       "183          NaN      NaN     NaN       FA  \n",
       "184          NaN      NaN     NaN       FA  \n",
       "185          NaN      NaN     NaN       FA  \n",
       "\n",
       "[186 rows x 12 columns]"
      ]
     },
     "execution_count": 4,
     "metadata": {},
     "output_type": "execute_result"
    }
   ],
   "source": [
    "eval_graph = pd.read_csv('/home/christopher/geomagnetic_storms/cme4evaluation.csv')\n",
    "eval_graph"
   ]
  },
  {
   "cell_type": "code",
   "execution_count": 5,
   "id": "ae47640b-a67a-4f48-9784-8a80d0332729",
   "metadata": {},
   "outputs": [
    {
     "data": {
      "text/html": [
       "<div>\n",
       "<style scoped>\n",
       "    .dataframe tbody tr th:only-of-type {\n",
       "        vertical-align: middle;\n",
       "    }\n",
       "\n",
       "    .dataframe tbody tr th {\n",
       "        vertical-align: top;\n",
       "    }\n",
       "\n",
       "    .dataframe thead th {\n",
       "        text-align: right;\n",
       "    }\n",
       "</style>\n",
       "<table border=\"1\" class=\"dataframe\">\n",
       "  <thead>\n",
       "    <tr style=\"text-align: right;\">\n",
       "      <th></th>\n",
       "      <th>index</th>\n",
       "      <th>start</th>\n",
       "      <th>arrival</th>\n",
       "      <th>KPrange</th>\n",
       "      <th>Kp</th>\n",
       "      <th>K</th>\n",
       "      <th>InRangeGlobal</th>\n",
       "      <th>InRangeLocal</th>\n",
       "      <th>timingKp</th>\n",
       "      <th>timingK</th>\n",
       "      <th>Onsetdst</th>\n",
       "    </tr>\n",
       "  </thead>\n",
       "  <tbody>\n",
       "    <tr>\n",
       "      <th>0</th>\n",
       "      <td>CME-20240105T015300</td>\n",
       "      <td>2024-01-05T01:53:00</td>\n",
       "      <td>2024-01-08T09:39:00</td>\n",
       "      <td>2.66667 - 5.0</td>\n",
       "      <td>0.000000</td>\n",
       "      <td>1.0</td>\n",
       "      <td>lower</td>\n",
       "      <td>lower</td>\n",
       "      <td>FA</td>\n",
       "      <td>FA</td>\n",
       "      <td>FA</td>\n",
       "    </tr>\n",
       "    <tr>\n",
       "      <th>1</th>\n",
       "      <td>CME-20240106T081200</td>\n",
       "      <td>2024-01-06T08:12:00</td>\n",
       "      <td>2024-01-09T13:00:00</td>\n",
       "      <td>2.0 - 4.5</td>\n",
       "      <td>1.000000</td>\n",
       "      <td>2.0</td>\n",
       "      <td>lower</td>\n",
       "      <td>yes</td>\n",
       "      <td>M</td>\n",
       "      <td>H</td>\n",
       "      <td>FA</td>\n",
       "    </tr>\n",
       "    <tr>\n",
       "      <th>2</th>\n",
       "      <td>CME-20240106T173600</td>\n",
       "      <td>2024-01-06T17:36:00</td>\n",
       "      <td>2024-01-10T01:00:00</td>\n",
       "      <td>2.0 - 4.0</td>\n",
       "      <td>1.000000</td>\n",
       "      <td>2.0</td>\n",
       "      <td>lower</td>\n",
       "      <td>yes</td>\n",
       "      <td>H</td>\n",
       "      <td>H</td>\n",
       "      <td>FA</td>\n",
       "    </tr>\n",
       "    <tr>\n",
       "      <th>3</th>\n",
       "      <td>CME-20240109T154800</td>\n",
       "      <td>2024-01-09T15:48:00</td>\n",
       "      <td>2024-01-12T10:00:00</td>\n",
       "      <td>3.0 - 4.5</td>\n",
       "      <td>0.333333</td>\n",
       "      <td>0.0</td>\n",
       "      <td>lower</td>\n",
       "      <td>lower</td>\n",
       "      <td>FA</td>\n",
       "      <td>FA</td>\n",
       "      <td>FA</td>\n",
       "    </tr>\n",
       "    <tr>\n",
       "      <th>4</th>\n",
       "      <td>CME-20240120T092400</td>\n",
       "      <td>2024-01-20T09:24:00</td>\n",
       "      <td>2024-01-22T16:50:00</td>\n",
       "      <td>4.44444 - 6.44444</td>\n",
       "      <td>2.000000</td>\n",
       "      <td>2.0</td>\n",
       "      <td>lower</td>\n",
       "      <td>lower</td>\n",
       "      <td>M</td>\n",
       "      <td>FA</td>\n",
       "      <td>FA</td>\n",
       "    </tr>\n",
       "    <tr>\n",
       "      <th>...</th>\n",
       "      <td>...</td>\n",
       "      <td>...</td>\n",
       "      <td>...</td>\n",
       "      <td>...</td>\n",
       "      <td>...</td>\n",
       "      <td>...</td>\n",
       "      <td>...</td>\n",
       "      <td>...</td>\n",
       "      <td>...</td>\n",
       "      <td>...</td>\n",
       "      <td>...</td>\n",
       "    </tr>\n",
       "    <tr>\n",
       "      <th>181</th>\n",
       "      <td>CME-20241226T191200</td>\n",
       "      <td>2024-12-26T19:12:00</td>\n",
       "      <td>2024-12-30T13:00:00</td>\n",
       "      <td>2.0 - 3.0</td>\n",
       "      <td>1.000000</td>\n",
       "      <td>1.0</td>\n",
       "      <td>lower</td>\n",
       "      <td>lower</td>\n",
       "      <td>M</td>\n",
       "      <td>M</td>\n",
       "      <td>FA</td>\n",
       "    </tr>\n",
       "    <tr>\n",
       "      <th>182</th>\n",
       "      <td>CME-20241228T064800</td>\n",
       "      <td>2024-12-28T06:48:00</td>\n",
       "      <td>2025-01-01T10:00:00</td>\n",
       "      <td>2.0 - 4.0</td>\n",
       "      <td>NaN</td>\n",
       "      <td>NaN</td>\n",
       "      <td>NaN</td>\n",
       "      <td>NaN</td>\n",
       "      <td>NaN</td>\n",
       "      <td>NaN</td>\n",
       "      <td>FA</td>\n",
       "    </tr>\n",
       "    <tr>\n",
       "      <th>183</th>\n",
       "      <td>CME-20241229T012300</td>\n",
       "      <td>2024-12-29T01:23:00</td>\n",
       "      <td>2024-12-31T16:51:00</td>\n",
       "      <td>4.66667 - 6.33333</td>\n",
       "      <td>NaN</td>\n",
       "      <td>NaN</td>\n",
       "      <td>NaN</td>\n",
       "      <td>NaN</td>\n",
       "      <td>NaN</td>\n",
       "      <td>NaN</td>\n",
       "      <td>FA</td>\n",
       "    </tr>\n",
       "    <tr>\n",
       "      <th>184</th>\n",
       "      <td>CME-20241229T062400</td>\n",
       "      <td>2024-12-29T06:24:00</td>\n",
       "      <td>2024-12-31T16:11:00</td>\n",
       "      <td>5.11111 - 7.22222</td>\n",
       "      <td>NaN</td>\n",
       "      <td>NaN</td>\n",
       "      <td>NaN</td>\n",
       "      <td>NaN</td>\n",
       "      <td>NaN</td>\n",
       "      <td>NaN</td>\n",
       "      <td>FA</td>\n",
       "    </tr>\n",
       "    <tr>\n",
       "      <th>185</th>\n",
       "      <td>CME-20241229T182400</td>\n",
       "      <td>2024-12-29T18:24:00</td>\n",
       "      <td>2025-01-01T04:48:00</td>\n",
       "      <td>4.8 - 6.4</td>\n",
       "      <td>NaN</td>\n",
       "      <td>NaN</td>\n",
       "      <td>NaN</td>\n",
       "      <td>NaN</td>\n",
       "      <td>NaN</td>\n",
       "      <td>NaN</td>\n",
       "      <td>FA</td>\n",
       "    </tr>\n",
       "  </tbody>\n",
       "</table>\n",
       "<p>186 rows × 11 columns</p>\n",
       "</div>"
      ],
      "text/plain": [
       "                   index                start              arrival  \\\n",
       "0    CME-20240105T015300  2024-01-05T01:53:00  2024-01-08T09:39:00   \n",
       "1    CME-20240106T081200  2024-01-06T08:12:00  2024-01-09T13:00:00   \n",
       "2    CME-20240106T173600  2024-01-06T17:36:00  2024-01-10T01:00:00   \n",
       "3    CME-20240109T154800  2024-01-09T15:48:00  2024-01-12T10:00:00   \n",
       "4    CME-20240120T092400  2024-01-20T09:24:00  2024-01-22T16:50:00   \n",
       "..                   ...                  ...                  ...   \n",
       "181  CME-20241226T191200  2024-12-26T19:12:00  2024-12-30T13:00:00   \n",
       "182  CME-20241228T064800  2024-12-28T06:48:00  2025-01-01T10:00:00   \n",
       "183  CME-20241229T012300  2024-12-29T01:23:00  2024-12-31T16:51:00   \n",
       "184  CME-20241229T062400  2024-12-29T06:24:00  2024-12-31T16:11:00   \n",
       "185  CME-20241229T182400  2024-12-29T18:24:00  2025-01-01T04:48:00   \n",
       "\n",
       "               KPrange        Kp    K InRangeGlobal InRangeLocal timingKp  \\\n",
       "0        2.66667 - 5.0  0.000000  1.0         lower        lower       FA   \n",
       "1            2.0 - 4.5  1.000000  2.0         lower          yes        M   \n",
       "2            2.0 - 4.0  1.000000  2.0         lower          yes        H   \n",
       "3            3.0 - 4.5  0.333333  0.0         lower        lower       FA   \n",
       "4    4.44444 - 6.44444  2.000000  2.0         lower        lower        M   \n",
       "..                 ...       ...  ...           ...          ...      ...   \n",
       "181          2.0 - 3.0  1.000000  1.0         lower        lower        M   \n",
       "182          2.0 - 4.0       NaN  NaN           NaN          NaN      NaN   \n",
       "183  4.66667 - 6.33333       NaN  NaN           NaN          NaN      NaN   \n",
       "184  5.11111 - 7.22222       NaN  NaN           NaN          NaN      NaN   \n",
       "185          4.8 - 6.4       NaN  NaN           NaN          NaN      NaN   \n",
       "\n",
       "    timingK Onsetdst  \n",
       "0        FA       FA  \n",
       "1         H       FA  \n",
       "2         H       FA  \n",
       "3        FA       FA  \n",
       "4        FA       FA  \n",
       "..      ...      ...  \n",
       "181       M       FA  \n",
       "182     NaN       FA  \n",
       "183     NaN       FA  \n",
       "184     NaN       FA  \n",
       "185     NaN       FA  \n",
       "\n",
       "[186 rows x 11 columns]"
      ]
     },
     "execution_count": 5,
     "metadata": {},
     "output_type": "execute_result"
    }
   ],
   "source": [
    "eval_graph.drop(eval_graph.columns[eval_graph.columns.str.contains('unnamed', case=False)],axis=1, inplace=True)\n",
    "eval_graph"
   ]
  },
  {
   "cell_type": "code",
   "execution_count": 6,
   "id": "6549595c-821a-4c1e-b9a3-5b0d7eac0213",
   "metadata": {},
   "outputs": [],
   "source": [
    "eval_graph.to_csv('Final_evaluation_graph.csv')"
   ]
  },
  {
   "cell_type": "markdown",
   "id": "71e0b679-65ef-419f-a679-3f81438f87b8",
   "metadata": {},
   "source": [
    "Important considerations\n",
    "-"
   ]
  },
  {
   "cell_type": "markdown",
   "id": "cc9fa291-6d16-4860-b6c0-a5fc1e80385c",
   "metadata": {},
   "source": [
    "The InRangeGlobal and InRangeLocal columns were made by looking at the data from the kp, k and cme charts and considering that:\n",
    "- yes: the Kp or K is within the predicted KPrange.\n",
    "- lower: the Kp or K is lower than the predicted KPrange.\n",
    "- higher: the Kp or K is higher than the predicted KPrange.\n",
    "\n",
    "The timingKp and timingK columns were made by looking at the data from the kp, k and cme charts and considering that:\n",
    "- H (hit): when the prediction matches the K or Kp value at the exact same time it was predicted.\n",
    "- M (miss): when the prediction matches the K or Kp value in a 24-48h range (24h early or late at most) but not at the exact same time it was predicted.\n",
    "- FA (false alarm): when none of the conditions above were true.\n",
    "\n",
    "The Onsetdst column was automatically generated with a python loop which was programmed the following way:\n",
    "- H (hit): when the prediction matched the onset of the storm or was during 1 hour before (range between 1 hour before and the end of the storm).\n",
    "- M (miss): when the prediction did not match the onset of the storm and was not in the H range but was 12h before or after the actual event.\n",
    "- FA (false alarm): when none of the conditions above were true."
   ]
  },
  {
   "cell_type": "markdown",
   "id": "9305ca6c-fe6d-4638-8d41-6d5289dc5e6a",
   "metadata": {},
   "source": [
    "Kp, K and Dst rates calculation\n",
    "-"
   ]
  },
  {
   "cell_type": "code",
   "execution_count": 7,
   "id": "b31a214c-da84-4934-82da-9245683428f5",
   "metadata": {},
   "outputs": [
    {
     "data": {
      "text/plain": [
       "index            34\n",
       "start            34\n",
       "arrival          34\n",
       "KPrange          34\n",
       "Kp               34\n",
       "K                34\n",
       "InRangeGlobal    34\n",
       "InRangeLocal     34\n",
       "timingKp         34\n",
       "timingK          34\n",
       "Onsetdst         34\n",
       "dtype: int64"
      ]
     },
     "execution_count": 7,
     "metadata": {},
     "output_type": "execute_result"
    }
   ],
   "source": [
    "eval_graph.loc[eval_graph.timingK.isin(['FA']),:].count()"
   ]
  },
  {
   "cell_type": "code",
   "execution_count": 17,
   "id": "8d2205d0-bde0-48fb-995d-0c6e1ea8a7f6",
   "metadata": {},
   "outputs": [
    {
     "data": {
      "text/plain": [
       "index            79\n",
       "start            79\n",
       "arrival          79\n",
       "KPrange          79\n",
       "Kp               79\n",
       "K                78\n",
       "InRangeGlobal    79\n",
       "InRangeLocal     78\n",
       "timingKp         79\n",
       "timingK          79\n",
       "Onsetdst         79\n",
       "dtype: int64"
      ]
     },
     "execution_count": 17,
     "metadata": {},
     "output_type": "execute_result"
    }
   ],
   "source": [
    "eval_graph.loc[eval_graph.timingK.isin(['M']),:].count()"
   ]
  },
  {
   "cell_type": "code",
   "execution_count": 9,
   "id": "ac2cff14-f2ff-4e24-a92c-92a80c2d55f2",
   "metadata": {},
   "outputs": [
    {
     "data": {
      "text/plain": [
       "index            69\n",
       "start            69\n",
       "arrival          69\n",
       "KPrange          69\n",
       "Kp               69\n",
       "K                69\n",
       "InRangeGlobal    69\n",
       "InRangeLocal     68\n",
       "timingKp         69\n",
       "timingK          69\n",
       "Onsetdst         69\n",
       "dtype: int64"
      ]
     },
     "execution_count": 9,
     "metadata": {},
     "output_type": "execute_result"
    }
   ],
   "source": [
    "eval_graph.loc[eval_graph.timingK.isin(['H']),:].count()"
   ]
  },
  {
   "cell_type": "code",
   "execution_count": 15,
   "id": "144ba4a7-b493-4324-b352-49a58d63adae",
   "metadata": {},
   "outputs": [
    {
     "data": {
      "text/plain": [
       "0.46621621621621623"
      ]
     },
     "execution_count": 15,
     "metadata": {},
     "output_type": "execute_result"
    }
   ],
   "source": [
    "# Hit rate (H/(H+M))\n",
    "69/(69+79)"
   ]
  },
  {
   "cell_type": "code",
   "execution_count": 18,
   "id": "013e71f2-f4fa-495a-85a5-eb6bf9a16abc",
   "metadata": {},
   "outputs": [
    {
     "data": {
      "text/plain": [
       "0.3791208791208791"
      ]
     },
     "execution_count": 18,
     "metadata": {},
     "output_type": "execute_result"
    }
   ],
   "source": [
    "#Accuracy (H/(H+M+FA))\n",
    "69/(69+34+79)"
   ]
  },
  {
   "cell_type": "code",
   "execution_count": 21,
   "id": "445bcecd-9286-44d6-a7d5-811a75094201",
   "metadata": {},
   "outputs": [
    {
     "data": {
      "text/plain": [
       "index            31\n",
       "start            31\n",
       "arrival          31\n",
       "KPrange          31\n",
       "Kp               31\n",
       "K                30\n",
       "InRangeGlobal    31\n",
       "InRangeLocal     30\n",
       "timingKp         31\n",
       "timingK          31\n",
       "Onsetdst         31\n",
       "dtype: int64"
      ]
     },
     "execution_count": 21,
     "metadata": {},
     "output_type": "execute_result"
    }
   ],
   "source": [
    "eval_graph.loc[eval_graph.timingKp.isin(['FA']),:].count()"
   ]
  },
  {
   "cell_type": "code",
   "execution_count": 19,
   "id": "c965eb98-6210-40a1-b2ef-18978e9d23ec",
   "metadata": {},
   "outputs": [
    {
     "data": {
      "text/plain": [
       "index            86\n",
       "start            86\n",
       "arrival          86\n",
       "KPrange          86\n",
       "Kp               86\n",
       "K                86\n",
       "InRangeGlobal    86\n",
       "InRangeLocal     86\n",
       "timingKp         86\n",
       "timingK          86\n",
       "Onsetdst         86\n",
       "dtype: int64"
      ]
     },
     "execution_count": 19,
     "metadata": {},
     "output_type": "execute_result"
    }
   ],
   "source": [
    "eval_graph.loc[eval_graph.timingKp.isin(['M']),:].count()"
   ]
  },
  {
   "cell_type": "code",
   "execution_count": 20,
   "id": "bb126164-c14f-4cec-8e79-e0e12c2c033f",
   "metadata": {},
   "outputs": [
    {
     "data": {
      "text/plain": [
       "index            65\n",
       "start            65\n",
       "arrival          65\n",
       "KPrange          65\n",
       "Kp               65\n",
       "K                65\n",
       "InRangeGlobal    65\n",
       "InRangeLocal     64\n",
       "timingKp         65\n",
       "timingK          65\n",
       "Onsetdst         65\n",
       "dtype: int64"
      ]
     },
     "execution_count": 20,
     "metadata": {},
     "output_type": "execute_result"
    }
   ],
   "source": [
    "eval_graph.loc[eval_graph.timingKp.isin(['H']),:].count()"
   ]
  },
  {
   "cell_type": "code",
   "execution_count": 22,
   "id": "48b1e8e5-fffe-48a0-bfc9-8aa0e57e17d6",
   "metadata": {},
   "outputs": [
    {
     "data": {
      "text/plain": [
       "0.4304635761589404"
      ]
     },
     "execution_count": 22,
     "metadata": {},
     "output_type": "execute_result"
    }
   ],
   "source": [
    "# Hit rate (H/(H+M))\n",
    "65/(65+86)"
   ]
  },
  {
   "cell_type": "code",
   "execution_count": 21,
   "id": "371235d2-97eb-4b89-8072-1b3ba27841f3",
   "metadata": {},
   "outputs": [
    {
     "data": {
      "text/plain": [
       "0.35714285714285715"
      ]
     },
     "execution_count": 21,
     "metadata": {},
     "output_type": "execute_result"
    }
   ],
   "source": [
    "#Accuracy (H/(H+M+FA))\n",
    "65/(65+86+31)"
   ]
  },
  {
   "cell_type": "code",
   "execution_count": 24,
   "id": "6a4d1ebf-d1de-45fd-b6f2-9efc67d4d02c",
   "metadata": {},
   "outputs": [
    {
     "data": {
      "text/plain": [
       "index            70\n",
       "start            70\n",
       "arrival          70\n",
       "KPrange          70\n",
       "Kp               70\n",
       "K                70\n",
       "InRangeGlobal    70\n",
       "InRangeLocal     69\n",
       "timingKp         70\n",
       "timingK          70\n",
       "Onsetdst         70\n",
       "dtype: int64"
      ]
     },
     "execution_count": 24,
     "metadata": {},
     "output_type": "execute_result"
    }
   ],
   "source": [
    "eval_graph.loc[eval_graph.Onsetdst.isin(['H']),:].count()"
   ]
  },
  {
   "cell_type": "code",
   "execution_count": 26,
   "id": "61398ffb-6741-4044-a12a-9d83b6125246",
   "metadata": {},
   "outputs": [
    {
     "data": {
      "text/plain": [
       "index            23\n",
       "start            23\n",
       "arrival          23\n",
       "KPrange          23\n",
       "Kp               23\n",
       "K                23\n",
       "InRangeGlobal    23\n",
       "InRangeLocal     23\n",
       "timingKp         23\n",
       "timingK          23\n",
       "Onsetdst         23\n",
       "dtype: int64"
      ]
     },
     "execution_count": 26,
     "metadata": {},
     "output_type": "execute_result"
    }
   ],
   "source": [
    "eval_graph.loc[eval_graph.Onsetdst.isin(['M']),:].count()"
   ]
  },
  {
   "cell_type": "code",
   "execution_count": 27,
   "id": "3a495948-e019-4f94-8be0-f49f2d684317",
   "metadata": {},
   "outputs": [
    {
     "data": {
      "text/plain": [
       "index            93\n",
       "start            93\n",
       "arrival          93\n",
       "KPrange          93\n",
       "Kp               89\n",
       "K                88\n",
       "InRangeGlobal    89\n",
       "InRangeLocal     88\n",
       "timingKp         89\n",
       "timingK          89\n",
       "Onsetdst         93\n",
       "dtype: int64"
      ]
     },
     "execution_count": 27,
     "metadata": {},
     "output_type": "execute_result"
    }
   ],
   "source": [
    "eval_graph.loc[eval_graph.Onsetdst.isin(['FA']),:].count()"
   ]
  },
  {
   "cell_type": "code",
   "execution_count": 10,
   "id": "4b3b9e18-4fea-456b-8b10-4935919446f1",
   "metadata": {},
   "outputs": [
    {
     "data": {
      "text/plain": [
       "0.7526881720430108"
      ]
     },
     "execution_count": 10,
     "metadata": {},
     "output_type": "execute_result"
    }
   ],
   "source": [
    "# Hit rate (H/(H+M))\n",
    "70/(23+70)"
   ]
  },
  {
   "cell_type": "code",
   "execution_count": 25,
   "id": "bf89636d-50f9-4cac-8ba0-095144650523",
   "metadata": {},
   "outputs": [
    {
     "data": {
      "text/plain": [
       "0.3763440860215054"
      ]
     },
     "execution_count": 25,
     "metadata": {},
     "output_type": "execute_result"
    }
   ],
   "source": [
    "#Accuracy (H/(H+M+FA))\n",
    "70/(70+93+23)"
   ]
  }
 ],
 "metadata": {
  "kernelspec": {
   "display_name": "Python 3 (ipykernel)",
   "language": "python",
   "name": "python3"
  },
  "language_info": {
   "codemirror_mode": {
    "name": "ipython",
    "version": 3
   },
   "file_extension": ".py",
   "mimetype": "text/x-python",
   "name": "python",
   "nbconvert_exporter": "python",
   "pygments_lexer": "ipython3",
   "version": "3.12.3"
  }
 },
 "nbformat": 4,
 "nbformat_minor": 5
}
