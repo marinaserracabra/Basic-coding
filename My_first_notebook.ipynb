{
 "cells": [
  {
   "cell_type": "markdown",
   "id": "8ead4239-0379-436d-9054-906ee26303f7",
   "metadata": {},
   "source": [
    "# Getting started with coding"
   ]
  },
  {
   "cell_type": "markdown",
   "id": "d686ccd4-6888-45f6-a4fe-f6e33a5fe906",
   "metadata": {},
   "source": [
    "Today is day 1 of class."
   ]
  },
  {
   "cell_type": "code",
   "execution_count": 11,
   "id": "afe493b2-0d6b-482f-b1b8-3c5d0243a4c9",
   "metadata": {},
   "outputs": [
    {
     "name": "stdout",
     "output_type": "stream",
     "text": [
      "Number of hours of this course in the quarter =  26.6\n"
     ]
    }
   ],
   "source": [
    "#general commands and easy calculations\n",
    "\n",
    "print(\"Number of hours of this course in the quarter = \", 10*1.33*2)"
   ]
  },
  {
   "cell_type": "code",
   "execution_count": 12,
   "id": "6c26da78-ca54-4562-865c-e30fa067378e",
   "metadata": {},
   "outputs": [
    {
     "name": "stdout",
     "output_type": "stream",
     "text": [
      "and everywhere that Mary went the lamb was sure to go to\n"
     ]
    }
   ],
   "source": [
    "print(\"and everywhere that Mary went\", end = \" \")       #Space is \"\"\n",
    "print ('the lamb was sure to go to')"
   ]
  },
  {
   "cell_type": "code",
   "execution_count": 13,
   "id": "d892e29c-a438-4536-a92b-9fb1c448a73b",
   "metadata": {},
   "outputs": [
    {
     "data": {
      "text/plain": [
       "10"
      ]
     },
     "execution_count": 13,
     "metadata": {},
     "output_type": "execute_result"
    }
   ],
   "source": [
    "text = \"abcdefghij\"                                     #Counting characters\n",
    "len(text)"
   ]
  },
  {
   "cell_type": "code",
   "execution_count": 14,
   "id": "53d075e4-0eeb-4112-8946-b56bcdb8057a",
   "metadata": {},
   "outputs": [
    {
     "name": "stdout",
     "output_type": "stream",
     "text": [
      "e\n"
     ]
    }
   ],
   "source": [
    "print(text[4])                                   #Printing the character at position [] (note that the first character is at position 0)\n",
    "                                                 #If it is negative, you start from the right "
   ]
  },
  {
   "cell_type": "code",
   "execution_count": 15,
   "id": "ab4feb24-d64f-4564-9273-d749c74bdd37",
   "metadata": {},
   "outputs": [
    {
     "name": "stdout",
     "output_type": "stream",
     "text": [
      "efghij\n"
     ]
    }
   ],
   "source": [
    "print (text[4:])                                 #Printing all the characters before :[] ([] not included) or after []: (with [] included)"
   ]
  },
  {
   "cell_type": "code",
   "execution_count": 16,
   "id": "1dd7a5ba-4ef8-444d-9a6f-0eef3a82b91f",
   "metadata": {},
   "outputs": [
    {
     "name": "stdout",
     "output_type": "stream",
     "text": [
      "efgh\n"
     ]
    }
   ],
   "source": [
    "print (text[4:8])                                #Ranges (max not included)"
   ]
  },
  {
   "cell_type": "code",
   "execution_count": 17,
   "id": "fabb72ab-3a8c-4aa1-83d1-7ba680117667",
   "metadata": {},
   "outputs": [
    {
     "name": "stdout",
     "output_type": "stream",
     "text": [
      "acegi\n"
     ]
    }
   ],
   "source": [
    "print(text[::2])                                 #Counting every two numbers"
   ]
  },
  {
   "cell_type": "code",
   "execution_count": 18,
   "id": "33f8afd0-9e34-4379-823d-e1a5332bd75c",
   "metadata": {},
   "outputs": [],
   "source": [
    "#attributes and methods\n",
    "\n",
    "class example_class:\n",
    "    class_name = 'My class'\n",
    "    def my_method(self):\n",
    "        print('Hello world')\n"
   ]
  },
  {
   "cell_type": "code",
   "execution_count": 19,
   "id": "b6565109-e7b2-4c35-b57a-a8319cbb8c3d",
   "metadata": {},
   "outputs": [],
   "source": [
    "e = example_class()"
   ]
  },
  {
   "cell_type": "code",
   "execution_count": 20,
   "id": "ff0ce871-18c4-4341-acd0-c1d7bb63f315",
   "metadata": {},
   "outputs": [
    {
     "data": {
      "text/plain": [
       "'My class'"
      ]
     },
     "execution_count": 20,
     "metadata": {},
     "output_type": "execute_result"
    }
   ],
   "source": [
    "e.class_name"
   ]
  },
  {
   "cell_type": "code",
   "execution_count": 21,
   "id": "7a250631-f942-45b7-80af-bd2c4cb0f619",
   "metadata": {},
   "outputs": [
    {
     "name": "stdout",
     "output_type": "stream",
     "text": [
      "Hello world\n"
     ]
    }
   ],
   "source": [
    "e.my_method()"
   ]
  },
  {
   "cell_type": "code",
   "execution_count": 22,
   "id": "3fe89b82-72f3-4398-8cab-00c11bfd44f3",
   "metadata": {},
   "outputs": [
    {
     "name": "stdout",
     "output_type": "stream",
     "text": [
      "4500\n",
      "1125.0\n"
     ]
    }
   ],
   "source": [
    "#Shapes\n",
    "class Shape:\n",
    "    def __init__ (self, x, y):\n",
    "        self.x = x\n",
    "        self.y = y\n",
    "    description = 'None'\n",
    "    author='none'\n",
    "    def area(self):\n",
    "        return self.x*self.y\n",
    "    def describe (self, text):\n",
    "        self.description=text\n",
    "    def perimeter (self):\n",
    "        return2*self.x+2*self.y\n",
    "    def authorName (self, text):\n",
    "        self.author=text\n",
    "    def scaleSize (self,scale):\n",
    "        self.x=self.x*scale\n",
    "        self.y=self.y*scale\n",
    "\n",
    "rectangle = Shape (100,45)\n",
    "print(rectangle.area())\n",
    "rectangle.scaleSize (0.5)\n",
    "print (rectangle.area())"
   ]
  },
  {
   "cell_type": "code",
   "execution_count": 23,
   "id": "97970dc9-497e-44a2-b05e-ea9ff8690f60",
   "metadata": {},
   "outputs": [
    {
     "name": "stdout",
     "output_type": "stream",
     "text": [
      "<function Shape.area at 0x759eb68642c0>\n",
      "<function Shape.area at 0x759eb68642c0>\n"
     ]
    }
   ],
   "source": [
    "#Inheriting proprieties\n",
    "class Square(Shape):\n",
    "    def __init__(self,x):\n",
    "        self.x = x\n",
    "        self.y=x\n",
    "\n",
    "Square (20)\n",
    "print (Square. area)\n",
    "\n",
    "class Square2x (Square):\n",
    "    def __init__(self,y):\n",
    "        self.x = 2* y\n",
    "        self.y= y\n",
    "    def perimeter(self):\n",
    "        return 2* self.x + 3* self.y\n",
    "\n",
    "Square2x (10)\n",
    "print (Square2x. area)"
   ]
  },
  {
   "cell_type": "code",
   "execution_count": 24,
   "id": "97b1c3b7-1196-4935-aa13-05ee80a13448",
   "metadata": {},
   "outputs": [],
   "source": [
    "#assigning multiple values to variables or multiple variables to a value\n",
    "\n",
    "color1, color2, color3= 'red', 'yellow', 'blue'\n",
    "\n",
    "color4=color5='magenta'"
   ]
  },
  {
   "cell_type": "code",
   "execution_count": 25,
   "id": "5672a9a7-1f11-4d35-9a85-f364fdae0cd3",
   "metadata": {},
   "outputs": [
    {
     "data": {
      "text/plain": [
       "'red'"
      ]
     },
     "execution_count": 25,
     "metadata": {},
     "output_type": "execute_result"
    }
   ],
   "source": [
    "color1"
   ]
  },
  {
   "cell_type": "code",
   "execution_count": 26,
   "id": "004f19da-a49e-415f-8087-a485df1add40",
   "metadata": {},
   "outputs": [
    {
     "data": {
      "text/plain": [
       "'yellow'"
      ]
     },
     "execution_count": 26,
     "metadata": {},
     "output_type": "execute_result"
    }
   ],
   "source": [
    "color2"
   ]
  },
  {
   "cell_type": "code",
   "execution_count": 27,
   "id": "e3e80fef-f778-4e0e-ab29-680fc8d674aa",
   "metadata": {},
   "outputs": [
    {
     "data": {
      "text/plain": [
       "'blue'"
      ]
     },
     "execution_count": 27,
     "metadata": {},
     "output_type": "execute_result"
    }
   ],
   "source": [
    "color3"
   ]
  },
  {
   "cell_type": "code",
   "execution_count": 28,
   "id": "371e8f75-992e-4ee9-b105-8a6d1dac6400",
   "metadata": {},
   "outputs": [
    {
     "data": {
      "text/plain": [
       "'magenta'"
      ]
     },
     "execution_count": 28,
     "metadata": {},
     "output_type": "execute_result"
    }
   ],
   "source": [
    "color4"
   ]
  },
  {
   "cell_type": "code",
   "execution_count": 29,
   "id": "236e20b3-46ae-42ab-90f9-385c0d95dfac",
   "metadata": {},
   "outputs": [
    {
     "data": {
      "text/plain": [
       "'magenta'"
      ]
     },
     "execution_count": 29,
     "metadata": {},
     "output_type": "execute_result"
    }
   ],
   "source": [
    "color5"
   ]
  },
  {
   "cell_type": "code",
   "execution_count": 30,
   "id": "9dc9861b-037b-490d-b518-1b24c1264662",
   "metadata": {},
   "outputs": [],
   "source": [
    "# data types: \n",
    "#PRIMITIVE (integrer -number-, float -decimal number-, boolean -true, flase- , None, string -\"\" or ''-)\n",
    "#CONTAINERS (list -[]-, tuple -(), ordered, homogeneous and immtable- , dictionary-{}-)"
   ]
  },
  {
   "cell_type": "code",
   "execution_count": 31,
   "id": "87bfa190-5f44-48bc-96f6-a06a077ce5c2",
   "metadata": {},
   "outputs": [],
   "source": [
    "# call object by reference (and make lists)\n",
    "\n",
    "x=[1,6]\n",
    "y=x"
   ]
  },
  {
   "cell_type": "code",
   "execution_count": 32,
   "id": "c5f4a0c4-7f6d-4315-82e4-65b1316b7bc7",
   "metadata": {},
   "outputs": [
    {
     "name": "stdout",
     "output_type": "stream",
     "text": [
      "[1, 6, 4]\n"
     ]
    }
   ],
   "source": [
    "#Add a new object to the list or tuple\n",
    "y. append(4)\n",
    "print(y)"
   ]
  },
  {
   "cell_type": "code",
   "execution_count": 33,
   "id": "f6b1e9dd-53d3-4ff9-bc52-9a3e2403e7bf",
   "metadata": {},
   "outputs": [
    {
     "name": "stdout",
     "output_type": "stream",
     "text": [
      "[1, 6, 4]\n"
     ]
    }
   ],
   "source": [
    "print (x)"
   ]
  },
  {
   "cell_type": "code",
   "execution_count": 34,
   "id": "fd18a4f1-f951-4302-8198-50fd65c29ebb",
   "metadata": {},
   "outputs": [
    {
     "name": "stdout",
     "output_type": "stream",
     "text": [
      "[6]\n"
     ]
    }
   ],
   "source": [
    "#Remove an object from a list\n",
    "x=[1,6]\n",
    "\n",
    "del x[0]\n",
    "print (x)"
   ]
  },
  {
   "cell_type": "code",
   "execution_count": 35,
   "id": "e6a116a2-0255-48b0-a907-92a466f6228e",
   "metadata": {},
   "outputs": [
    {
     "data": {
      "text/plain": [
       "int"
      ]
     },
     "execution_count": 35,
     "metadata": {},
     "output_type": "execute_result"
    }
   ],
   "source": [
    "type(2)"
   ]
  },
  {
   "cell_type": "code",
   "execution_count": 36,
   "id": "7eb9b4b5-c0be-49e4-afe4-8edd284d72cb",
   "metadata": {},
   "outputs": [
    {
     "name": "stdout",
     "output_type": "stream",
     "text": [
      "1234\n"
     ]
    }
   ],
   "source": [
    "#Create dictionaries (useful for identifying value with another value)\n",
    "phonebook={'Me':1234,'you':2345}\n",
    "print (phonebook['Me'])"
   ]
  },
  {
   "cell_type": "code",
   "execution_count": 37,
   "id": "87098a59-39ae-4c0e-9656-5bc512ac9a81",
   "metadata": {},
   "outputs": [
    {
     "name": "stdout",
     "output_type": "stream",
     "text": [
      "{'Me': 1234, 'you': 2345, 'Him': 4567}\n"
     ]
    }
   ],
   "source": [
    "phonebook['Him']=4567\n",
    "print (phonebook)"
   ]
  },
  {
   "cell_type": "code",
   "execution_count": 38,
   "id": "a27d3dd9-ac97-48e3-832e-3eb84e7d04e5",
   "metadata": {},
   "outputs": [
    {
     "name": "stdout",
     "output_type": "stream",
     "text": [
      "Me is in the dictionary, you are 18 years old\n",
      "The following people are in the dictionary dict_keys(['Me', 'You', 'Him'])\n",
      "They are aged the following: dict_values([18, 23, 19])\n",
      "dict_keys(['Me', 'You', 'Him'])\n",
      "['Him', 'Me', 'You']\n",
      "dict_values([18, 23, 19])\n",
      "[18, 19, 23]\n",
      "The dictionary has 3 entries\n"
     ]
    }
   ],
   "source": [
    "#building a dictionary\n",
    "\n",
    "ages={}\n",
    "\n",
    "ages['Me']=18\n",
    "ages['You']=23\n",
    "ages['Him']=19\n",
    "\n",
    "if 'Me' in ages:\n",
    "    print ('Me is in the dictionary, you are', ages['Me'], 'years old')\n",
    "else:\n",
    "    print ('Me is not in the dictionary')\n",
    "\n",
    "#Keys and values\n",
    "\n",
    "print ('The following people are in the dictionary', ages.keys())\n",
    "print ('They are aged the following:', ages.values())\n",
    "\n",
    "values =ages.values()\n",
    "keys=ages.keys()\n",
    "\n",
    "print (keys)\n",
    "sortedkeys = sorted(keys)\n",
    "print (sortedkeys)\n",
    "\n",
    "print (values)\n",
    "sortedvalues= sorted (values)\n",
    "print (sortedvalues)\n",
    "\n",
    "print ('The dictionary has', len(ages), 'entries')"
   ]
  },
  {
   "cell_type": "code",
   "execution_count": 39,
   "id": "dce6c230-5315-4ca0-98e1-d1f70a3657aa",
   "metadata": {},
   "outputs": [
    {
     "name": "stdout",
     "output_type": "stream",
     "text": [
      "[1, 2, 3, 4, 5, 6, 7, 8, 9]\n"
     ]
    }
   ],
   "source": [
    "# built in module examples\n",
    "\n",
    "# RANGE\n",
    "\n",
    "print(list(range(1,10)))"
   ]
  },
  {
   "cell_type": "code",
   "execution_count": 40,
   "id": "df8328c3-d0a3-41bc-97d7-ccd74fda0846",
   "metadata": {},
   "outputs": [],
   "source": [
    "# DATE TIME\n",
    "\n",
    "import datetime as dt\n",
    "\n",
    "dt_object = dt.datetime(2025, 8, 18, 16, 2, 0)"
   ]
  },
  {
   "cell_type": "code",
   "execution_count": 41,
   "id": "4b81df03-5d97-42b7-99ad-922f4a8add52",
   "metadata": {},
   "outputs": [
    {
     "data": {
      "text/plain": [
       "18"
      ]
     },
     "execution_count": 41,
     "metadata": {},
     "output_type": "execute_result"
    }
   ],
   "source": [
    "dt_object.day"
   ]
  },
  {
   "cell_type": "code",
   "execution_count": 42,
   "id": "86732f23-2e30-4e4c-9a13-0eaf4618c3e7",
   "metadata": {},
   "outputs": [
    {
     "data": {
      "text/plain": [
       "8"
      ]
     },
     "execution_count": 42,
     "metadata": {},
     "output_type": "execute_result"
    }
   ],
   "source": [
    "dt_object.month"
   ]
  },
  {
   "cell_type": "code",
   "execution_count": 43,
   "id": "a5f66799-3d34-49b6-92d3-4c2de449d6e1",
   "metadata": {},
   "outputs": [
    {
     "data": {
      "text/plain": [
       "2"
      ]
     },
     "execution_count": 43,
     "metadata": {},
     "output_type": "execute_result"
    }
   ],
   "source": [
    "dt_object.minute"
   ]
  },
  {
   "cell_type": "code",
   "execution_count": 44,
   "id": "239dee05-7243-45d9-ab73-049382e033aa",
   "metadata": {},
   "outputs": [
    {
     "data": {
      "text/plain": [
       "'18/08/25'"
      ]
     },
     "execution_count": 44,
     "metadata": {},
     "output_type": "execute_result"
    }
   ],
   "source": [
    "dt_object. strftime ('%d/%m/%y')"
   ]
  },
  {
   "cell_type": "code",
   "execution_count": 45,
   "id": "80b910c0-754c-4d0b-82b4-ca3fed095c1e",
   "metadata": {},
   "outputs": [
    {
     "data": {
      "text/plain": [
       "'18/08/2025'"
      ]
     },
     "execution_count": 45,
     "metadata": {},
     "output_type": "execute_result"
    }
   ],
   "source": [
    "dt_object. strftime ('%d/%m/%Y')"
   ]
  },
  {
   "cell_type": "code",
   "execution_count": 46,
   "id": "9c1528a3-a703-4a93-b8f6-583322aa091d",
   "metadata": {},
   "outputs": [
    {
     "data": {
      "text/plain": [
       "'Aug-18-2025'"
      ]
     },
     "execution_count": 46,
     "metadata": {},
     "output_type": "execute_result"
    }
   ],
   "source": [
    "dt_object. strftime ('%h-%d-%Y')"
   ]
  },
  {
   "cell_type": "code",
   "execution_count": 47,
   "id": "e5217524-39bc-4b79-bf94-e73d2df3180d",
   "metadata": {},
   "outputs": [],
   "source": [
    "# Function definition\n",
    "\n",
    "def add(x,y):\n",
    "    \"\"\"This function adds the two numbers\"\"\"\n",
    "    z=x+y\n",
    "    return z"
   ]
  },
  {
   "cell_type": "code",
   "execution_count": 48,
   "id": "d4f9fefb-0451-44e2-afe5-1d292b002215",
   "metadata": {},
   "outputs": [
    {
     "data": {
      "text/plain": [
       "3"
      ]
     },
     "execution_count": 48,
     "metadata": {},
     "output_type": "execute_result"
    }
   ],
   "source": [
    "x=1\n",
    "y=2\n",
    "add(x,y)"
   ]
  },
  {
   "cell_type": "code",
   "execution_count": 49,
   "id": "cdbebb25-8088-4e87-990e-87571e0b058f",
   "metadata": {},
   "outputs": [],
   "source": [
    "def say_hello_to(name):\n",
    "    print('Hello ', name)\n",
    "    print ('How are you?')"
   ]
  },
  {
   "cell_type": "code",
   "execution_count": 50,
   "id": "6ba5e66e-6f41-4cb9-b6fc-457397ae0dbe",
   "metadata": {},
   "outputs": [
    {
     "name": "stdout",
     "output_type": "stream",
     "text": [
      "Hello  Marina\n",
      "How are you?\n"
     ]
    }
   ],
   "source": [
    "say_hello_to('Marina')"
   ]
  },
  {
   "cell_type": "code",
   "execution_count": 51,
   "id": "2fbf5e49-bc32-4b67-a407-c786e2c171ce",
   "metadata": {},
   "outputs": [
    {
     "name": "stdout",
     "output_type": "stream",
     "text": [
      "Local Hello\n"
     ]
    }
   ],
   "source": [
    "# Local vs. global (depending on the position)\n",
    "\n",
    "def greeting():\n",
    "    message = 'Hello' #LOCAL VARIABLE\n",
    "    print ('Local', message)\n",
    "greeting() #you cannot print(message)"
   ]
  },
  {
   "cell_type": "code",
   "execution_count": 52,
   "id": "631bc6ff-4559-4910-a46a-ae491f6d3dfe",
   "metadata": {},
   "outputs": [
    {
     "name": "stdout",
     "output_type": "stream",
     "text": [
      "Global hello\n"
     ]
    }
   ],
   "source": [
    "message = 'hello'\n",
    "\n",
    "def greeting ():\n",
    "    print ('Global', message)\n",
    "\n",
    "greeting()"
   ]
  },
  {
   "cell_type": "code",
   "execution_count": 53,
   "id": "89ad2120-8cf2-4f58-b635-8a909723c75c",
   "metadata": {},
   "outputs": [],
   "source": [
    "# Naming arguments in functions and optional arguments\n",
    "\n",
    "def loan_emi (amount, duration, rate, down_payment=0):\n",
    "    loan_amount = amount - down_payment\n",
    "    emi = loan_amount * rate * ((1+rate)**duration) / (((1+rate)**duration)-1)\n",
    "    return emi"
   ]
  },
  {
   "cell_type": "code",
   "execution_count": 54,
   "id": "925253c8-5562-43d5-8ced-3b7d484e6b48",
   "metadata": {},
   "outputs": [
    {
     "data": {
      "text/plain": [
       "14567.19753389219"
      ]
     },
     "execution_count": 54,
     "metadata": {},
     "output_type": "execute_result"
    }
   ],
   "source": [
    "emi1 = loan_emi (amount=1.26e6, duration=8*12, rate=0.1/12, down_payment=3e5)\n",
    "\n",
    "emi1"
   ]
  },
  {
   "cell_type": "code",
   "execution_count": 55,
   "id": "697934b3-5819-4c7c-9190-aaf030bb0fcc",
   "metadata": {},
   "outputs": [
    {
     "data": {
      "text/plain": [
       "19119.4467632335"
      ]
     },
     "execution_count": 55,
     "metadata": {},
     "output_type": "execute_result"
    }
   ],
   "source": [
    "# If an argument is not provided, it uses the default value (in this case, 0)\n",
    "\n",
    "emi2 = loan_emi (amount=1.26e6, duration=8*12, rate=0.1/12)\n",
    "emi2"
   ]
  },
  {
   "cell_type": "code",
   "execution_count": 56,
   "id": "96c56828-a14a-4b07-b5e6-6f3180f9daaa",
   "metadata": {},
   "outputs": [
    {
     "name": "stdout",
     "output_type": "stream",
     "text": [
      "args:  ('Marina', 18, 'student')\n",
      "kwargs:  {'name': 'Marina', 'age': 18, 'profession': 'student'}\n",
      "args:  ('a',)\n",
      "kwargs:  {'a': 'b'}\n"
     ]
    }
   ],
   "source": [
    "# Args and kwargs\n",
    "\n",
    "def fun(*args, **kwargs):\n",
    "    print (\"args: \", args)       #Not assigned\n",
    "    print (\"kwargs: \", kwargs)   #Assigned\n",
    "\n",
    "fun( 'Marina', 18, 'student', name= 'Marina', age=18, profession= 'student')\n",
    "fun('a',a='b')"
   ]
  },
  {
   "cell_type": "code",
   "execution_count": 57,
   "id": "48fade78-12ff-4c05-b728-0d5acf5d24df",
   "metadata": {},
   "outputs": [],
   "source": [
    "# Boolean expressions\n",
    "#Expression \tFunction\n",
    "#< \tLess than\n",
    "#<= \tLess than or equal to\n",
    "#> \tGreater than\n",
    "#>= \tGreater than or equal to\n",
    "#!= \tNot equal to\n",
    "#== \tEqual to"
   ]
  },
  {
   "cell_type": "code",
   "execution_count": 58,
   "id": "33a77c52-1a32-489f-be21-e70c2e085d1e",
   "metadata": {},
   "outputs": [
    {
     "name": "stdout",
     "output_type": "stream",
     "text": [
      "9 is odd\n"
     ]
    }
   ],
   "source": [
    "# Built in keywords\n",
    "\n",
    "#CONDITIONAL STATEMENTS\n",
    "\n",
    "a_number = 9\n",
    "\n",
    "if a_number % 2 == 0:\n",
    "    print ('{} is even'. format(a_number))\n",
    "    if a_number % 3 == 0:\n",
    "        print ('{} is also divisible by 3'. format(a_number))\n",
    "    else:\n",
    "        print ('{} is not divisible by 3'. format(a_number))\n",
    "else:\n",
    "    print ('{} is odd'. format(a_number))\n",
    "\n",
    "#You use elif when you want to add conditions between if and else. You can also nest (include an if inside of an if to add info)."
   ]
  },
  {
   "cell_type": "code",
   "execution_count": 59,
   "id": "c52addfc-9f34-4c93-8a96-4ca6956cbf92",
   "metadata": {},
   "outputs": [
    {
     "name": "stdout",
     "output_type": "stream",
     "text": [
      "The number 9 is odd. \n"
     ]
    }
   ],
   "source": [
    "# You can also define the equality and put if and else inside.\n",
    "\n",
    "parity = 'even' if a_number % 2 == 0 else 'odd'\n",
    "print ('The number {} is {}. '. format(a_number, parity))"
   ]
  },
  {
   "cell_type": "code",
   "execution_count": 60,
   "id": "f251fca6-8ca1-4a6a-b7a1-10731221d571",
   "metadata": {},
   "outputs": [
    {
     "name": "stdout",
     "output_type": "stream",
     "text": [
      "9 is divisible by 3 but not divisible by 2\n"
     ]
    }
   ],
   "source": [
    "# You can use the pass option to do nothing.\n",
    "\n",
    "if a_number % 2 == 0:\n",
    "    pass\n",
    "elif a_number % 3 == 0: \n",
    "    print ('{} is divisible by 3 but not divisible by 2'. format(a_number))"
   ]
  },
  {
   "cell_type": "code",
   "execution_count": 61,
   "id": "02295c17-c848-42cf-aa1b-80db74add4ef",
   "metadata": {},
   "outputs": [
    {
     "name": "stdout",
     "output_type": "stream",
     "text": [
      "result:  1  i:  2\n",
      "result:  2  i:  3\n",
      "result:  6  i:  4\n",
      "result:  24  i:  5\n",
      "result:  120  i:  6\n",
      "result:  720  i:  7\n",
      "result:  5040  i:  8\n",
      "result:  40320  i:  9\n",
      "result:  362880  i:  10\n",
      "result:  3628800  i:  11\n",
      "The factorial of 100 is: 3628800\n"
     ]
    }
   ],
   "source": [
    "# Iteration with while and for loops\n",
    "\n",
    "result=1\n",
    "i=1\n",
    "\n",
    "while i<=10:\n",
    "    result=result*i\n",
    "    i=i+1\n",
    "    print('result: ',result, ' i: ', i)\n",
    "\n",
    "print ('The factorial of 100 is: {}'. format(result))"
   ]
  },
  {
   "cell_type": "code",
   "execution_count": 62,
   "id": "1c77c1dd-76da-4412-89a7-d272220cc4d9",
   "metadata": {},
   "outputs": [
    {
     "name": "stdout",
     "output_type": "stream",
     "text": [
      "Magic number reached! Stopping execution.\n",
      "i: 42\n",
      "result: 1405006117752879898543142606244511569936384000000000\n"
     ]
    }
   ],
   "source": [
    "i=1\n",
    "result=1\n",
    "\n",
    "while i<= 100:\n",
    "    result *=i\n",
    "    if i== 42:\n",
    "        print ('Magic number reached! Stopping execution.')\n",
    "        break\n",
    "    i += 1\n",
    "\n",
    "print ('i:', i)\n",
    "print ('result:', result)\n",
    "\n",
    "#= for assignments and == for conditions."
   ]
  },
  {
   "cell_type": "code",
   "execution_count": 63,
   "id": "cae4f480-663d-4717-92c9-b337212fe69b",
   "metadata": {},
   "outputs": [
    {
     "name": "stdout",
     "output_type": "stream",
     "text": [
      "Skipping 2\n",
      "Multiplying with 3\n",
      "Skipping 4\n",
      "Multiplying with 5\n",
      "Skipping 6\n",
      "Multiplying with 7\n",
      "Skipping 8\n",
      "i: 8\n",
      "result: 105\n"
     ]
    }
   ],
   "source": [
    "i=1\n",
    "result=1\n",
    "\n",
    "while i<8:\n",
    "    i+= 1\n",
    "    if i%2==0:\n",
    "        print('Skipping {}'.format(i)) #Logging\n",
    "        continue\n",
    "    print('Multiplying with {}'.format(i))\n",
    "    result=result*i\n",
    "\n",
    "print ('i:', i)\n",
    "print ('result:', result)"
   ]
  },
  {
   "cell_type": "code",
   "execution_count": 64,
   "id": "8c92b76d-fb29-44d7-92c7-d5afd6fbb301",
   "metadata": {},
   "outputs": [
    {
     "name": "stdout",
     "output_type": "stream",
     "text": [
      "M\n",
      "a\n",
      "r\n",
      "The end\n"
     ]
    }
   ],
   "source": [
    "# FOR, CONTINUE and BREAK\n",
    "\n",
    "for val in \"Marina\":\n",
    "    if val == \"i\":\n",
    "        break\n",
    "    print (val)\n",
    "\n",
    "print ('The end')\n"
   ]
  },
  {
   "cell_type": "code",
   "execution_count": 65,
   "id": "7f94105c-b6b0-46d0-ad88-a0f74db83a31",
   "metadata": {},
   "outputs": [
    {
     "name": "stdout",
     "output_type": "stream",
     "text": [
      "M\n",
      "a\n",
      "r\n",
      "n\n",
      "a\n",
      "The end\n"
     ]
    }
   ],
   "source": [
    "for val in \"Marina\":\n",
    "    if val == \"i\":\n",
    "        continue\n",
    "    print (val)\n",
    "print ('The end')"
   ]
  },
  {
   "cell_type": "code",
   "execution_count": 66,
   "id": "5336bdcd-5498-4c42-ba75-ac613ce21aa2",
   "metadata": {},
   "outputs": [
    {
     "name": "stdout",
     "output_type": "stream",
     "text": [
      "M\n",
      "o\n",
      "n\n",
      "d\n",
      "a\n",
      "y\n"
     ]
    }
   ],
   "source": [
    "# Looping over a string\n",
    "\n",
    "for char in 'Monday':\n",
    "    print (char)\n"
   ]
  },
  {
   "cell_type": "code",
   "execution_count": 67,
   "id": "48fc9e01-93a7-451c-a236-e6ede89c67f7",
   "metadata": {},
   "outputs": [
    {
     "name": "stdout",
     "output_type": "stream",
     "text": [
      "Key: name , Value: Marina\n",
      "Key: sex , Value: Female\n",
      "Key: age , Value: 18\n",
      "Key: married , Value: False\n"
     ]
    }
   ],
   "source": [
    "# Looping over a dictionary\n",
    "\n",
    "person = {\n",
    "    'name': 'Marina',\n",
    "    'sex': 'Female',\n",
    "    'age': 18,\n",
    "    'married': False\n",
    "}\n",
    "\n",
    "for key, value in person.items():\n",
    "    print(\"Key:\", key, \",\", \"Value:\", value)\n"
   ]
  },
  {
   "cell_type": "code",
   "execution_count": 68,
   "id": "a94a14a5-f90c-4676-ad0f-c27bd211d132",
   "metadata": {},
   "outputs": [
    {
     "name": "stdout",
     "output_type": "stream",
     "text": [
      "0\n",
      "1\n",
      "2\n",
      "3\n",
      "4\n",
      "5\n",
      "6\n",
      "7\n"
     ]
    }
   ],
   "source": [
    "# Iteration using range and enumerate (IN)\n",
    "\n",
    "for i in range(8):\n",
    "    print(i)"
   ]
  },
  {
   "cell_type": "code",
   "execution_count": 69,
   "id": "9918e169-c6a4-44a5-958a-99893ed88137",
   "metadata": {},
   "outputs": [
    {
     "name": "stdout",
     "output_type": "stream",
     "text": [
      "2\n",
      "3\n",
      "4\n",
      "5\n",
      "6\n",
      "7\n"
     ]
    }
   ],
   "source": [
    "for i in range(2,8):\n",
    "    print(i)"
   ]
  },
  {
   "cell_type": "code",
   "execution_count": 70,
   "id": "cdee1389-e50c-4720-b751-3d6565c38855",
   "metadata": {},
   "outputs": [
    {
     "name": "stdout",
     "output_type": "stream",
     "text": [
      "2\n",
      "4\n",
      "6\n"
     ]
    }
   ],
   "source": [
    "for i in range (2,8,2):\n",
    "    print(i)"
   ]
  },
  {
   "cell_type": "code",
   "execution_count": 71,
   "id": "1447cc2a-c705-42a4-8227-f53deebb7e69",
   "metadata": {},
   "outputs": [
    {
     "name": "stdout",
     "output_type": "stream",
     "text": [
      "The value at position 0 is Mon.\n",
      "The value at position 1 is Tue.\n",
      "The value at position 2 is Wed.\n",
      "The value at position 3 is Thu.\n",
      "The value at position 4 is Fri.\n",
      "The value at position 5 is Sat.\n",
      "The value at position 6 is Sun.\n"
     ]
    }
   ],
   "source": [
    "# Enumerating lists\n",
    "\n",
    "a_list = ['Mon', 'Tue', 'Wed', 'Thu', 'Fri', 'Sat', 'Sun']\n",
    "\n",
    "for i in range (len(a_list)):\n",
    "    print ('The value at position {} is {}.'.format(i, a_list[i]))"
   ]
  },
  {
   "cell_type": "code",
   "execution_count": 72,
   "id": "44ba6efb-d8a5-4838-8749-c07de66eb973",
   "metadata": {},
   "outputs": [
    {
     "name": "stdout",
     "output_type": "stream",
     "text": [
      "The value at postion 0 is Mon.\n",
      "The value at postion 1 is Tue.\n",
      "The value at postion 2 is Wed.\n",
      "The value at postion 3 is Thu.\n",
      "The value at postion 4 is Fri.\n",
      "The value at postion 5 is Sat.\n",
      "The value at postion 6 is Sun.\n"
     ]
    }
   ],
   "source": [
    "for i, val in enumerate(a_list):\n",
    "    print('The value at postion {} is {}.'.format(i, val))"
   ]
  },
  {
   "cell_type": "code",
   "execution_count": 73,
   "id": "4ceb3f68-420c-44fc-b5da-758814b7dec0",
   "metadata": {},
   "outputs": [
    {
     "name": "stdout",
     "output_type": "stream",
     "text": [
      "5\n"
     ]
    }
   ],
   "source": [
    "# COUNT and FIND\n",
    "\n",
    "sentence = 'You are doing your homework'\n",
    "print (sentence.count('o'))"
   ]
  },
  {
   "cell_type": "code",
   "execution_count": 74,
   "id": "b0e1fa9a-11d8-4ff6-b4d1-c6b76cbea378",
   "metadata": {},
   "outputs": [
    {
     "name": "stdout",
     "output_type": "stream",
     "text": [
      "26\n"
     ]
    }
   ],
   "source": [
    "print (sentence.find('k'))"
   ]
  },
  {
   "cell_type": "code",
   "execution_count": 75,
   "id": "0e629605-550c-482d-a2d5-18b04150fff7",
   "metadata": {},
   "outputs": [
    {
     "name": "stdout",
     "output_type": "stream",
     "text": [
      "14\n"
     ]
    }
   ],
   "source": [
    "print (sentence.rfind('y'))    #When you have repeated characters"
   ]
  },
  {
   "cell_type": "code",
   "execution_count": 76,
   "id": "9b3de979-10a6-4d8e-a57f-96c359175ed8",
   "metadata": {},
   "outputs": [
    {
     "name": "stdout",
     "output_type": "stream",
     "text": [
      "YOU ARE DOING YOUR HOMEWORK\n",
      "['You', 'are', 'doing', 'your', 'homework']\n",
      "You are doing your tasks\n"
     ]
    }
   ],
   "source": [
    "#UPPER, SPLIT, REPLACE\n",
    "\n",
    "print(sentence.upper())\n",
    "print (sentence.split(\" \"))\n",
    "print (sentence.replace('homework','tasks'))"
   ]
  },
  {
   "cell_type": "code",
   "execution_count": 77,
   "id": "04e52a4d-62fb-49f6-a1b6-dc467d180f15",
   "metadata": {},
   "outputs": [],
   "source": [
    "#\\ and \\n for escape and new lines!"
   ]
  },
  {
   "cell_type": "code",
   "execution_count": 78,
   "id": "a9fda9c7-a17a-43ac-997e-35e01ddec227",
   "metadata": {},
   "outputs": [
    {
     "name": "stdin",
     "output_type": "stream",
     "text": [
      "Type in something, and it will be repeated on screen:  1\n"
     ]
    },
    {
     "name": "stdout",
     "output_type": "stream",
     "text": [
      "1\n"
     ]
    }
   ],
   "source": [
    "#INPUT and EVAL\n",
    "#a = eval(input(\"Type in something, and it will be repeated on screen: \"))\n",
    "#print(a)"
   ]
  },
  {
   "cell_type": "code",
   "execution_count": 79,
   "id": "82e72bc8-ff4c-4904-8fe3-1f80d86ff7fb",
   "metadata": {},
   "outputs": [
    {
     "name": "stdout",
     "output_type": "stream",
     "text": [
      "This is my own calculator\n",
      "Your options are:\n",
      "1. Addition\n",
      "2. Subtraction\n",
      "3. Miltiplication\n",
      "4. Division\n",
      "5. Quit\n"
     ]
    },
    {
     "name": "stdin",
     "output_type": "stream",
     "text": [
      "Your choice:  5\n"
     ]
    },
    {
     "name": "stdout",
     "output_type": "stream",
     "text": [
      "Thank you for using my calculator!\n"
     ]
    }
   ],
   "source": [
    "#EXERCISE: creating a calculator with inputs and loops and conditions\n",
    "\n",
    "print ('This is my own calculator')\n",
    "\n",
    "loop=1\n",
    "choice=0\n",
    "\n",
    "while loop==1:\n",
    "    print ('Your options are:')\n",
    "    print ('1. Addition')\n",
    "    print ('2. Subtraction')\n",
    "    print ('3. Miltiplication')\n",
    "    print ('4. Division')\n",
    "    print ('5. Quit')\n",
    "\n",
    "    choice=eval(input(\"Your choice: \"))\n",
    "    if choice==1:\n",
    "        add1 = eval(input(\"Add this: \"))\n",
    "        add2 = eval (input (\"To this: \"))\n",
    "        print (add1, \"+\", add2, \"=\", add1+add2)\n",
    "    elif choice==2:\n",
    "        sub1 = eval(input(\"Subtract this: \"))\n",
    "        sub2 = eval (input (\"To this: \"))\n",
    "        print (sub2, '-', sub1, '=', sub2-sub1)\n",
    "    elif choice==3:\n",
    "        mul1 = eval(input(\"Multiply this: \"))\n",
    "        mul2 = eval (input (\"To this: \"))\n",
    "        print (mul1, '*', mul2, '=', mul1*mul2)\n",
    "    elif choice==4:\n",
    "        div1 = eval(input(\"Divide this: \"))\n",
    "        div2 = eval(input(\"Between this: \"))\n",
    "        print (div1, '/', div2, '=', div1/div2)\n",
    "    elif choice==5:\n",
    "        loop=0\n",
    "\n",
    "print ('Thank you for using my calculator!')"
   ]
  },
  {
   "cell_type": "code",
   "execution_count": 80,
   "id": "425f4948-9084-4ced-bac2-554be977d67a",
   "metadata": {},
   "outputs": [
    {
     "name": "stdout",
     "output_type": "stream",
     "text": [
      "This is my own calculator\n",
      "Your options are:\n",
      "1. Addition\n",
      "2. Subtraction\n",
      "3. Miltiplication\n",
      "4. Division\n",
      "5. Quit\n",
      "\n"
     ]
    },
    {
     "name": "stdin",
     "output_type": "stream",
     "text": [
      "Your choice:  5\n"
     ]
    },
    {
     "name": "stdout",
     "output_type": "stream",
     "text": [
      "Thank you for using my calculator!\n"
     ]
    }
   ],
   "source": [
    "#EXERCISE 2: getting the calculator to a higher level with functions\n",
    "\n",
    "def menu():\n",
    "    print ('This is my own calculator')\n",
    "    print ('Your options are:')\n",
    "    print ('1. Addition')\n",
    "    print ('2. Subtraction')\n",
    "    print ('3. Miltiplication')\n",
    "    print ('4. Division')\n",
    "    print ('5. Quit')\n",
    "    print (\"\")\n",
    "    return eval(input(\"Your choice: \"))\n",
    "\n",
    "def add(a,b):\n",
    "    print (a, \"+\", b, \"=\", a+b)\n",
    "\n",
    "def sub(a,b):\n",
    "    print (a, '-', b, '=', a-b)\n",
    "\n",
    "def mul(a,b):\n",
    "    print (a, '*', b, '=', a*b)\n",
    "\n",
    "def div(a,b):\n",
    "    print (a, '/', b, '=', a/b)\n",
    "    \n",
    "loop=1\n",
    "choice=0\n",
    "\n",
    "while loop==1:\n",
    "    choice=menu()\n",
    "    if choice==1:\n",
    "         add(eval(input(\"Add this: \")), eval (input (\"To this: \")))\n",
    "    elif choice==2:\n",
    "         sub(eval(input(\"Subtract this: \")), eval (input (\"To this: \")))\n",
    "    elif choice==3:\n",
    "         mul(eval(input(\"Multiply this: \")), eval (input (\"To this: \")))\n",
    "    elif choice==4:\n",
    "         div(eval(input(\"Divide this: \")), eval(input(\"Between this: \")))\n",
    "    elif choice==5:\n",
    "        loop=0\n",
    "\n",
    "print ('Thank you for using my calculator!')"
   ]
  },
  {
   "cell_type": "code",
   "execution_count": 81,
   "id": "15807742-fd0b-464f-a261-dc4b7fccba57",
   "metadata": {},
   "outputs": [
    {
     "name": "stdout",
     "output_type": "stream",
     "text": [
      "Instructions of the game. You have to find the key of the room you are locked in.\n",
      "The key is in one of these objects: ['pot plant', 'painting', 'vase', 'lampshade', 'shoe', 'door']\n",
      "pot plant\n",
      "painting\n",
      "vase\n",
      "lampshade\n",
      "shoe\n",
      "door\n",
      "\n",
      "The door is locked. Could there be a key somewhere?\n",
      "1) pot plant\n",
      "2) painting\n",
      "3) vase\n",
      "4) lampshade\n",
      "5) shoe\n",
      "6) door\n"
     ]
    },
    {
     "ename": "KeyboardInterrupt",
     "evalue": "Interrupted by user",
     "output_type": "error",
     "traceback": [
      "\u001b[31m---------------------------------------------------------------------------\u001b[39m",
      "\u001b[31mKeyboardInterrupt\u001b[39m                         Traceback (most recent call last)",
      "\u001b[36mCell\u001b[39m\u001b[36m \u001b[39m\u001b[32mIn[81]\u001b[39m\u001b[32m, line 24\u001b[39m\n\u001b[32m     21\u001b[39m \u001b[38;5;28mprint\u001b[39m(\u001b[33m\"\u001b[39m\u001b[33mThe door is locked. Could there be a key somewhere?\u001b[39m\u001b[33m\"\u001b[39m)\n\u001b[32m     23\u001b[39m \u001b[38;5;28;01mwhile\u001b[39;00m loop == \u001b[32m1\u001b[39m:\n\u001b[32m---> \u001b[39m\u001b[32m24\u001b[39m     choice = \u001b[43mmenu\u001b[49m\u001b[43m(\u001b[49m\u001b[43mitems\u001b[49m\u001b[43m,\u001b[49m\u001b[33;43m\"\u001b[39;49m\u001b[33;43mWhat do you want to inspect? \u001b[39;49m\u001b[33;43m\"\u001b[39;49m\u001b[43m)\u001b[49m\n\u001b[32m     25\u001b[39m     \u001b[38;5;28;01mif\u001b[39;00m choice == \u001b[32m0\u001b[39m:\n\u001b[32m     26\u001b[39m         \u001b[38;5;28;01mif\u001b[39;00m choice == keylocation:\n",
      "\u001b[36mCell\u001b[39m\u001b[36m \u001b[39m\u001b[32mIn[81]\u001b[39m\u001b[32m, line 8\u001b[39m, in \u001b[36mmenu\u001b[39m\u001b[34m(list, question)\u001b[39m\n\u001b[32m      5\u001b[39m     \u001b[38;5;28mprint\u001b[39m(\u001b[32m1\u001b[39m + \u001b[38;5;28mlist\u001b[39m.index(entry),end=\u001b[33m\"\u001b[39m\u001b[33m\"\u001b[39m)\n\u001b[32m      6\u001b[39m     \u001b[38;5;28mprint\u001b[39m (\u001b[33m\"\u001b[39m\u001b[33m) \u001b[39m\u001b[33m\"\u001b[39m + entry)\n\u001b[32m----> \u001b[39m\u001b[32m8\u001b[39m \u001b[38;5;28;01mreturn\u001b[39;00m \u001b[38;5;28meval\u001b[39m(\u001b[38;5;28;43minput\u001b[39;49m\u001b[43m(\u001b[49m\u001b[43mquestion\u001b[49m\u001b[43m)\u001b[49m) - \u001b[32m1\u001b[39m\n",
      "\u001b[36mFile \u001b[39m\u001b[32m~/env/magpy/lib/python3.12/site-packages/ipykernel/kernelbase.py:1260\u001b[39m, in \u001b[36mKernel.raw_input\u001b[39m\u001b[34m(self, prompt)\u001b[39m\n\u001b[32m   1258\u001b[39m     msg = \u001b[33m\"\u001b[39m\u001b[33mraw_input was called, but this frontend does not support input requests.\u001b[39m\u001b[33m\"\u001b[39m\n\u001b[32m   1259\u001b[39m     \u001b[38;5;28;01mraise\u001b[39;00m StdinNotImplementedError(msg)\n\u001b[32m-> \u001b[39m\u001b[32m1260\u001b[39m \u001b[38;5;28;01mreturn\u001b[39;00m \u001b[38;5;28;43mself\u001b[39;49m\u001b[43m.\u001b[49m\u001b[43m_input_request\u001b[49m\u001b[43m(\u001b[49m\n\u001b[32m   1261\u001b[39m \u001b[43m    \u001b[49m\u001b[38;5;28;43mstr\u001b[39;49m\u001b[43m(\u001b[49m\u001b[43mprompt\u001b[49m\u001b[43m)\u001b[49m\u001b[43m,\u001b[49m\n\u001b[32m   1262\u001b[39m \u001b[43m    \u001b[49m\u001b[38;5;28;43mself\u001b[39;49m\u001b[43m.\u001b[49m\u001b[43m_parent_ident\u001b[49m\u001b[43m[\u001b[49m\u001b[33;43m\"\u001b[39;49m\u001b[33;43mshell\u001b[39;49m\u001b[33;43m\"\u001b[39;49m\u001b[43m]\u001b[49m\u001b[43m,\u001b[49m\n\u001b[32m   1263\u001b[39m \u001b[43m    \u001b[49m\u001b[38;5;28;43mself\u001b[39;49m\u001b[43m.\u001b[49m\u001b[43mget_parent\u001b[49m\u001b[43m(\u001b[49m\u001b[33;43m\"\u001b[39;49m\u001b[33;43mshell\u001b[39;49m\u001b[33;43m\"\u001b[39;49m\u001b[43m)\u001b[49m\u001b[43m,\u001b[49m\n\u001b[32m   1264\u001b[39m \u001b[43m    \u001b[49m\u001b[43mpassword\u001b[49m\u001b[43m=\u001b[49m\u001b[38;5;28;43;01mFalse\u001b[39;49;00m\u001b[43m,\u001b[49m\n\u001b[32m   1265\u001b[39m \u001b[43m\u001b[49m\u001b[43m)\u001b[49m\n",
      "\u001b[36mFile \u001b[39m\u001b[32m~/env/magpy/lib/python3.12/site-packages/ipykernel/kernelbase.py:1305\u001b[39m, in \u001b[36mKernel._input_request\u001b[39m\u001b[34m(self, prompt, ident, parent, password)\u001b[39m\n\u001b[32m   1302\u001b[39m \u001b[38;5;28;01mexcept\u001b[39;00m \u001b[38;5;167;01mKeyboardInterrupt\u001b[39;00m:\n\u001b[32m   1303\u001b[39m     \u001b[38;5;66;03m# re-raise KeyboardInterrupt, to truncate traceback\u001b[39;00m\n\u001b[32m   1304\u001b[39m     msg = \u001b[33m\"\u001b[39m\u001b[33mInterrupted by user\u001b[39m\u001b[33m\"\u001b[39m\n\u001b[32m-> \u001b[39m\u001b[32m1305\u001b[39m     \u001b[38;5;28;01mraise\u001b[39;00m \u001b[38;5;167;01mKeyboardInterrupt\u001b[39;00m(msg) \u001b[38;5;28;01mfrom\u001b[39;00m\u001b[38;5;250m \u001b[39m\u001b[38;5;28;01mNone\u001b[39;00m\n\u001b[32m   1306\u001b[39m \u001b[38;5;28;01mexcept\u001b[39;00m \u001b[38;5;167;01mException\u001b[39;00m:\n\u001b[32m   1307\u001b[39m     \u001b[38;5;28mself\u001b[39m.log.warning(\u001b[33m\"\u001b[39m\u001b[33mInvalid Message:\u001b[39m\u001b[33m\"\u001b[39m, exc_info=\u001b[38;5;28;01mTrue\u001b[39;00m)\n",
      "\u001b[31mKeyboardInterrupt\u001b[39m: Interrupted by user"
     ]
    }
   ],
   "source": [
    "#EXERCISE 3\n",
    "\n",
    "def menu(list, question):\n",
    "    for entry in list:\n",
    "        print(1 + list.index(entry),end=\"\")\n",
    "        print (\") \" + entry)\n",
    "\n",
    "    return eval(input(question)) - 1\n",
    "\n",
    "items= ['pot plant', 'painting', 'vase', 'lampshade', 'shoe', 'door']\n",
    "keylocation=2\n",
    "keyfound=0\n",
    "loop=1\n",
    "\n",
    "print ('Instructions of the game. You have to find the key of the room you are locked in.')\n",
    "print ('The key is in one of these objects:', items)\n",
    "\n",
    "for x in items:\n",
    "    print(x)\n",
    "print(\"\")\n",
    "print(\"The door is locked. Could there be a key somewhere?\")\n",
    "\n",
    "while loop == 1:\n",
    "    choice = menu(items,\"What do you want to inspect? \")\n",
    "    if choice == 0:\n",
    "        if choice == keylocation:\n",
    "            print(\"You found a small key in the pot plant.\")\n",
    "\n",
    "            print(\"\")\n",
    "            keyfound = 1\n",
    "        else:\n",
    "            print(\"You found nothing in the pot plant.\")\n",
    "            print(\"\")\n",
    "    elif choice == 1:\n",
    "        if choice == keylocation:\n",
    "            print(\"You found a small key behind the painting.\")\n",
    "            print(\"\")\n",
    "\n",
    "            keyfound = 1\n",
    "        else:\n",
    "            print(\"You found nothing behind the painting.\")\n",
    "            print(\"\")\n",
    "    elif choice == 2:\n",
    "        if choice == keylocation:\n",
    "            print(\"You found a small key in the vase.\")\n",
    "            print(\"\")\n",
    "            keyfound = 1\n",
    "        else:\n",
    "            print(\"You found nothing in the vase.\")\n",
    "\n",
    "            print(\"\")\n",
    "    elif choice == 3:\n",
    "        if choice == keylocation:\n",
    "            print(\"You found a small key in the lampshade.\")\n",
    "            print(\"\")\n",
    "            keyfound = 1\n",
    "        else:\n",
    "            print(\"You found nothing in the lampshade.\")\n",
    "            print(\"\")\n",
    "\n",
    "    elif choice == 4:\n",
    "        if choice == keylocation:\n",
    "            print(\"You found a small key in the shoe.\")\n",
    "            print(\"\")\n",
    "            keyfound = 1\n",
    "        else:\n",
    "            print(\"You found nothing in the shoe.\")\n",
    "            print(\"\")\n",
    "    elif choice == 5:\n",
    "        if keyfound == 1:\n",
    "            loop = 0\n",
    "            print(\"You put in the key, turn it, and hear a click\")\n",
    "\n",
    "            print(\"\")\n",
    "    \n",
    "        else:\n",
    "            print(\"The door is locked, you need to find a key.\")\n",
    "            print(\"\")\n"
   ]
  },
  {
   "cell_type": "code",
   "execution_count": null,
   "id": "c6f028d9-ef82-4af0-a450-6a75b9355e19",
   "metadata": {},
   "outputs": [],
   "source": [
    "#opening files\n",
    "\n",
    "filename = \"/home/christopher/requirements.tx\"\n",
    "fl=open(filename, 'r')\n",
    "for line in fl:\n",
    "    print(line.strip())\n",
    "fl.close ()"
   ]
  },
  {
   "cell_type": "code",
   "execution_count": null,
   "id": "c7eae28b-514f-4027-b524-8bd7ad6d1435",
   "metadata": {},
   "outputs": [],
   "source": [
    "#opening files\n",
    "\n",
    "filename = \"/home/christopher/requirements.tx\"\n",
    "fl=open(filename, 'r')\n",
    "print(fl.read())\n",
    "\n",
    "#in case it moved, you could also seek in a file using seek(offset -0 beginning, 1 cursor current position, 2 ending-, whence -how far-)\n",
    "#you can also print(fl.read())\n",
    "\n",
    "#fl.tell() #exact position of the cursor\n",
    "#fl.readline () #reads until the next paragraph (you can put a maximum amount of parameters to read in the ())\n",
    "#fl. readlines () #list of elements holding a line code\n",
    "#fl.close ()"
   ]
  },
  {
   "cell_type": "code",
   "execution_count": null,
   "id": "18af0e61-c58e-4740-8657-0bd09965269e",
   "metadata": {},
   "outputs": [],
   "source": [
    "import pickle\n",
    "\n",
    "picklelist = ['yes', 'i', 'have', 'pickled', 'this']\n",
    "\n",
    "file = open ('/home/christopher/geomagnetic_storms/Pickling document.ipynb', 'wb')\n",
    "pickle.dump(picklelist,file)\n",
    "file.close()"
   ]
  },
  {
   "cell_type": "code",
   "execution_count": null,
   "id": "4ea9ad18-d65e-40ad-8bfd-709e6681a7cf",
   "metadata": {},
   "outputs": [],
   "source": [
    "import pickle\n",
    "\n",
    "unpicklefile = open ('/home/christopher/geomagnetic_storms/Pickling document.ipynb', 'wb')\n",
    "unpickledlist = pickle.load(unpicklefile)\n",
    "unpicklefile.close()\n",
    "\n",
    "for item in unpickledlist:\n",
    "    print(item)"
   ]
  },
  {
   "cell_type": "code",
   "execution_count": null,
   "id": "40e552fc-1677-4910-8334-ebe8b9416472",
   "metadata": {},
   "outputs": [],
   "source": [
    "#If you get errors, you can use try and except (type the type of error as a function and give it a different outcome)\n",
    "#You can also use continue in loops and add as many excepts as we want to include all the error types. \n",
    "print(\"Subtraction program, v0.0.2 (beta)\")\n",
    "loop = 1\n",
    "while loop == 1:\n",
    "    try:\n",
    "        a = eval(input('Enter a number to subtract from > '))\n",
    "        b = eval(input('Enter the number to subtract > '))\n",
    "    except NameError:\n",
    "        print(\"\\nYou cannot subtract a letter\")\n",
    "        continue\n",
    "    except SyntaxError:\n",
    "        print(\"\\nPlease enter a number only.\")\n",
    "        continue\n",
    "    print(a - b)\n",
    "    try:\n",
    "        loop = eval(input('Press 1 to try again > '))\n",
    "    except (NameError, SyntaxError):\n",
    "        loop = 0"
   ]
  },
  {
   "cell_type": "markdown",
   "id": "b264e73c-d950-4b1d-bc8a-ae9f88a15932",
   "metadata": {},
   "source": [
    "# Pandas"
   ]
  },
  {
   "cell_type": "code",
   "execution_count": null,
   "id": "f439f45f-b5da-4bcb-88bf-36c41dccba7e",
   "metadata": {},
   "outputs": [],
   "source": [
    "import numpy as np\n",
    "import pandas as pd"
   ]
  },
  {
   "cell_type": "code",
   "execution_count": null,
   "id": "91c7c6de-3ace-4017-8506-464c8d6223db",
   "metadata": {},
   "outputs": [],
   "source": [
    "#Pandas objects\n",
    "\n",
    "#SERIES (1D array)\n",
    "\n",
    "data = pd.Series ([0.25, 0.5, 0.75, 1.0],\n",
    "                  index=[1, 2, 3, 4])\n",
    "\n",
    "data\n"
   ]
  },
  {
   "cell_type": "code",
   "execution_count": null,
   "id": "07eea9e3-cb96-45b3-982c-8824e902a1d2",
   "metadata": {},
   "outputs": [],
   "source": [
    "data.index"
   ]
  },
  {
   "cell_type": "code",
   "execution_count": null,
   "id": "b1e01afc-b23d-40e9-bd7a-e06f160768d4",
   "metadata": {},
   "outputs": [],
   "source": [
    "data.values"
   ]
  },
  {
   "cell_type": "code",
   "execution_count": null,
   "id": "4d3139d0-b957-4131-9239-a7875c7fdb45",
   "metadata": {},
   "outputs": [],
   "source": [
    "data[1]"
   ]
  },
  {
   "cell_type": "code",
   "execution_count": null,
   "id": "2e3a1005-4e68-4434-9aa6-2010c1254b2d",
   "metadata": {},
   "outputs": [],
   "source": [
    "data[0:3]"
   ]
  },
  {
   "cell_type": "code",
   "execution_count": null,
   "id": "bb21f222-405a-44fd-a697-89179a18605e",
   "metadata": {},
   "outputs": [],
   "source": [
    "#constructing series from dictionaries\n",
    "\n",
    "age_dict= {'Marina':18,\n",
    "         'Arnau':13,\n",
    "         'Joan':54,\n",
    "         'Nuri':48}\n",
    "age = pd.Series(age_dict)\n",
    "age"
   ]
  },
  {
   "cell_type": "code",
   "execution_count": null,
   "id": "ed6002d4-8006-432e-962d-e657f564be49",
   "metadata": {},
   "outputs": [],
   "source": [
    "#slicing by explicit integrer index (final index included)\n",
    "age['Marina':'Joan']"
   ]
  },
  {
   "cell_type": "code",
   "execution_count": null,
   "id": "72aede3e-3a52-4ae9-8ac2-dc494d526c52",
   "metadata": {},
   "outputs": [],
   "source": [
    "#slicing by implicit integrer index (final index excluded)\n",
    "\n",
    "age[0:3]"
   ]
  },
  {
   "cell_type": "code",
   "execution_count": null,
   "id": "58c79e77-e55a-43dd-bb32-9796e6643290",
   "metadata": {},
   "outputs": [],
   "source": [
    "#masking\n",
    "age [(age>10)&(age<15)]"
   ]
  },
  {
   "cell_type": "code",
   "execution_count": null,
   "id": "c6fda430-32f8-49f7-812e-eeeca0b93d5b",
   "metadata": {},
   "outputs": [],
   "source": [
    "#fanciyng indexing\n",
    "age[['Arnau', 'Joan']]"
   ]
  },
  {
   "cell_type": "code",
   "execution_count": null,
   "id": "05f7c819-27d9-48f7-a7f8-93523d2020a8",
   "metadata": {},
   "outputs": [],
   "source": [
    "#Adding data\n",
    "\n",
    "age['Àngel']=85\n",
    "age"
   ]
  },
  {
   "cell_type": "code",
   "execution_count": null,
   "id": "62d5e41c-9d6f-44c4-9874-31b27f5ee82d",
   "metadata": {},
   "outputs": [],
   "source": [
    "#AVOIDING CONFUSION WHEN SLICING OR INDEXING (loc - explicit - , iloc - implicit-, ix - hybrid combination-)"
   ]
  },
  {
   "cell_type": "code",
   "execution_count": null,
   "id": "c458d159-0461-45f2-8df7-8bc5ad702f1a",
   "metadata": {},
   "outputs": [],
   "source": [
    "# DATAFRAME (2D array)\n",
    "#from a single series\n",
    "\n",
    "pd.DataFrame(age, columns=['age'])"
   ]
  },
  {
   "cell_type": "code",
   "execution_count": null,
   "id": "a485894d-f12d-44d7-ae68-69107d712460",
   "metadata": {},
   "outputs": [],
   "source": [
    "#generating another series and constructing it from two series\n",
    "\n",
    "gen_dict={'Marina':'dona',\n",
    "          'Arnau':'home',\n",
    "          'Joan':'home',\n",
    "          'Nuri':'dona'}\n",
    "gender = pd.Series (gen_dict)\n",
    "\n",
    "família = pd.DataFrame({'age': age, 'gender': gender})\n",
    "\n",
    "família"
   ]
  },
  {
   "cell_type": "code",
   "execution_count": null,
   "id": "09f7f666-cbf5-433b-bb7c-b1746aa09c53",
   "metadata": {},
   "outputs": [],
   "source": [
    "família.index"
   ]
  },
  {
   "cell_type": "code",
   "execution_count": null,
   "id": "2cb7e575-8fe9-4a33-baca-8bb1d81d33a4",
   "metadata": {},
   "outputs": [],
   "source": [
    "família.columns"
   ]
  },
  {
   "cell_type": "code",
   "execution_count": null,
   "id": "a6d78323-6350-4732-a857-fcf456293792",
   "metadata": {},
   "outputs": [],
   "source": [
    "família.age"
   ]
  },
  {
   "cell_type": "code",
   "execution_count": null,
   "id": "10aae102-99ca-4061-b2cc-1d9d5840dc12",
   "metadata": {},
   "outputs": [],
   "source": [
    "família['age']"
   ]
  },
  {
   "cell_type": "code",
   "execution_count": null,
   "id": "a5929a19-3a9a-410f-9416-0ad67234695a",
   "metadata": {},
   "outputs": [],
   "source": [
    "família.age is família['age']"
   ]
  },
  {
   "cell_type": "code",
   "execution_count": null,
   "id": "d32b5015-9c24-4479-bd71-33ec3f550cbf",
   "metadata": {},
   "outputs": [],
   "source": [
    "família.gender is família['gender'] #Do not always rely on família.gender because it could not be the same!!!"
   ]
  },
  {
   "cell_type": "code",
   "execution_count": null,
   "id": "e3b11fd2-36f6-4644-9f25-7a06325f748b",
   "metadata": {},
   "outputs": [],
   "source": [
    "# it orders itself even though it is not initially placed in order\n",
    "gen_dict={'Arnau':'home',\n",
    "          'Marina':'dona',\n",
    "          'Joan':'home',\n",
    "          'Nuri':'dona'}\n",
    "gender = pd.Series (gen_dict)\n",
    "\n",
    "família = pd.DataFrame({'age': age, 'gender': gender})\n",
    "\n",
    "família"
   ]
  },
  {
   "cell_type": "code",
   "execution_count": null,
   "id": "35b00b99-76f0-4fd9-846a-0b95747b29e7",
   "metadata": {},
   "outputs": [],
   "source": [
    "#other way of viewing data file\n",
    "\n",
    "família.values"
   ]
  },
  {
   "cell_type": "code",
   "execution_count": null,
   "id": "cc7ac26f-8539-4ebb-aa3d-f8a67bff2ab0",
   "metadata": {},
   "outputs": [],
   "source": [
    "#traspose\n",
    "\n",
    "família.T"
   ]
  },
  {
   "cell_type": "code",
   "execution_count": null,
   "id": "0cca5d66-0522-4786-8814-65dfcbb0f754",
   "metadata": {},
   "outputs": [],
   "source": []
  },
  {
   "cell_type": "code",
   "execution_count": null,
   "id": "1eefcb29-2610-4f38-80f0-8a9a87122f2b",
   "metadata": {},
   "outputs": [],
   "source": [
    "#select a single row\n",
    "\n",
    "família.values[0]"
   ]
  },
  {
   "cell_type": "code",
   "execution_count": null,
   "id": "1bc28290-8c31-4621-91b8-a95dcd2aaf40",
   "metadata": {},
   "outputs": [],
   "source": [
    "#select single column\n",
    "\n",
    "família['age']"
   ]
  },
  {
   "cell_type": "code",
   "execution_count": null,
   "id": "54c78908-da6d-45e2-bfb2-7290fe3ce00b",
   "metadata": {},
   "outputs": [],
   "source": [
    "#selecting data the same way as with series\n",
    "\n",
    "família.iloc[:3,:2]"
   ]
  },
  {
   "cell_type": "code",
   "execution_count": null,
   "id": "88ff9606-3f7f-44e5-a205-e9db8da5cf2a",
   "metadata": {},
   "outputs": [],
   "source": [
    "família.loc[:'Joan', :'gender']"
   ]
  },
  {
   "cell_type": "code",
   "execution_count": null,
   "id": "997379b9-22b6-4828-9aa9-c863b74cffe1",
   "metadata": {},
   "outputs": [],
   "source": [
    "família.iloc[:3, :2]"
   ]
  },
  {
   "cell_type": "code",
   "execution_count": null,
   "id": "43fde42e-669e-4728-8812-66907c8a16a0",
   "metadata": {},
   "outputs": [],
   "source": [
    "família.loc[:família.index[2], :'age']"
   ]
  },
  {
   "cell_type": "code",
   "execution_count": null,
   "id": "0e318158-557d-4347-beb3-6b8797e2f0db",
   "metadata": {},
   "outputs": [],
   "source": [
    "#adding column\n",
    "\n",
    "família['walks'] = [1,2,3,4,5]\n",
    "\n"
   ]
  },
  {
   "cell_type": "code",
   "execution_count": null,
   "id": "f9ecbf76-4d49-4516-b958-931bf7e2172a",
   "metadata": {},
   "outputs": [],
   "source": [
    "a = {1,2,3,4,5,5}\n",
    "a?"
   ]
  },
  {
   "cell_type": "code",
   "execution_count": null,
   "id": "d0a7a754-a1a0-4658-8a87-1ea439ad0e85",
   "metadata": {},
   "outputs": [],
   "source": [
    "b= [1,2,3,4,5,5]\n",
    "b?"
   ]
  },
  {
   "cell_type": "code",
   "execution_count": null,
   "id": "c32ac750-a5b0-4bf5-9d33-a7a00e54b023",
   "metadata": {},
   "outputs": [],
   "source": [
    "# constructing a data frame with the own index\n",
    "\n",
    "data = [{'a': i, 'b': 2 * i}\n",
    "        for i in range(5)]\n",
    "pd.DataFrame(data)"
   ]
  },
  {
   "cell_type": "code",
   "execution_count": null,
   "id": "fcdc38a5-cc7d-46df-91c3-b507acefb794",
   "metadata": {},
   "outputs": [],
   "source": [
    "# constructing a data frame form a numpy array\n",
    "pd.DataFrame (np.random.rand(2,3),\n",
    "              columns=['res','buit','cacota'],\n",
    "              index=['a','b'])\n",
    "#you also have radint (random integrer between a certain numbers)\n",
    "\n",
    "#you type np.whatever to get mathematical expressions or functions: https://numpy.org/devdocs/reference/ufuncs.html\n"
   ]
  },
  {
   "cell_type": "code",
   "execution_count": null,
   "id": "fc0f2dcb-7a80-4d0f-b56c-8ca08bd1b8ed",
   "metadata": {},
   "outputs": [],
   "source": [
    "A = np.zeros(3, dtype=[('A', 'i8'), ('B', 'f8')])\n",
    "A"
   ]
  },
  {
   "cell_type": "code",
   "execution_count": null,
   "id": "e053ae11-fcca-4162-8850-125e6b97b56f",
   "metadata": {},
   "outputs": [],
   "source": [
    "pd. DataFrame(A)"
   ]
  },
  {
   "cell_type": "code",
   "execution_count": null,
   "id": "aad2193c-4476-43d7-b9a2-b61899da2e49",
   "metadata": {},
   "outputs": [],
   "source": [
    "# INDEX (immutable)\n",
    "\n",
    "ind = pd.Index([1,2,3,4])\n",
    "ind"
   ]
  },
  {
   "cell_type": "code",
   "execution_count": null,
   "id": "93e21e0f-ca5b-4fac-a1f9-076d3cf9ea43",
   "metadata": {},
   "outputs": [],
   "source": [
    "# also has attributes as an np array\n",
    "\n",
    "print (ind.size, ind.shape, ind.ndim, ind.dtype)\n",
    "\n",
    "#you can indicate if you want the column row .shape[0] or the column amount .shape[1]"
   ]
  },
  {
   "cell_type": "code",
   "execution_count": null,
   "id": "6fc86530-c269-422e-bdaa-c85a1681dc51",
   "metadata": {},
   "outputs": [],
   "source": [
    "# you can generate unions, intersections and differences in a familiar way\n",
    "\n",
    "ind1 = pd.Index([1,3,5,7,9])\n",
    "ind2 = pd.Index([1,2,3,4,5])"
   ]
  },
  {
   "cell_type": "code",
   "execution_count": null,
   "id": "b8a3dc6b-363c-440f-8909-6233f0425cfb",
   "metadata": {},
   "outputs": [],
   "source": [
    "#ind1 | ind2\n",
    "\n",
    "ind1 & ind2\n"
   ]
  },
  {
   "cell_type": "code",
   "execution_count": null,
   "id": "9ce3b835-93eb-4b7a-a1a7-debd2e22c892",
   "metadata": {},
   "outputs": [],
   "source": [
    "\n",
    "ind1 ^ ind2"
   ]
  },
  {
   "cell_type": "code",
   "execution_count": 117,
   "id": "46c296ed-9cbf-457b-91b0-72d6382dc0fb",
   "metadata": {},
   "outputs": [
    {
     "data": {
      "text/plain": [
       "MultiIndex([(  'Hello', 1),\n",
       "            (  'Hello', 2),\n",
       "            ('Goodbye', 1),\n",
       "            ('Goodbye', 2)],\n",
       "           )"
      ]
     },
     "execution_count": 117,
     "metadata": {},
     "output_type": "execute_result"
    }
   ],
   "source": [
    "#multiindex\n",
    "\n",
    "#if you put two things in the index it will be created automatically\n",
    "\n",
    "index = [('Hello', 1), ('Hello', 2), ('Goodbye', 1),('Goodbye', 2)]\n",
    "\n",
    "index = pd.MultiIndex.from_tuples(index)\n",
    "index"
   ]
  },
  {
   "cell_type": "code",
   "execution_count": 118,
   "id": "8194d5ab-a211-49ef-bbc5-4202babc1f4e",
   "metadata": {},
   "outputs": [
    {
     "data": {
      "text/plain": [
       "Hello    1    1.1\n",
       "         2    1.2\n",
       "Goodbye  1    2.1\n",
       "         2    2.2\n",
       "dtype: float64"
      ]
     },
     "execution_count": 118,
     "metadata": {},
     "output_type": "execute_result"
    }
   ],
   "source": [
    "values = [1.1, 1.2, 2.1, 2.2]\n",
    "val = pd.Series (values, index=index)\n",
    "\n",
    "val= val.reindex(index)\n",
    "val"
   ]
  },
  {
   "cell_type": "code",
   "execution_count": 119,
   "id": "0729f3cc-ae4f-4188-bb75-20076f8ccc16",
   "metadata": {},
   "outputs": [
    {
     "data": {
      "text/html": [
       "<div>\n",
       "<style scoped>\n",
       "    .dataframe tbody tr th:only-of-type {\n",
       "        vertical-align: middle;\n",
       "    }\n",
       "\n",
       "    .dataframe tbody tr th {\n",
       "        vertical-align: top;\n",
       "    }\n",
       "\n",
       "    .dataframe thead th {\n",
       "        text-align: right;\n",
       "    }\n",
       "</style>\n",
       "<table border=\"1\" class=\"dataframe\">\n",
       "  <thead>\n",
       "    <tr style=\"text-align: right;\">\n",
       "      <th></th>\n",
       "      <th>1</th>\n",
       "      <th>2</th>\n",
       "    </tr>\n",
       "  </thead>\n",
       "  <tbody>\n",
       "    <tr>\n",
       "      <th>Goodbye</th>\n",
       "      <td>2.1</td>\n",
       "      <td>2.2</td>\n",
       "    </tr>\n",
       "    <tr>\n",
       "      <th>Hello</th>\n",
       "      <td>1.1</td>\n",
       "      <td>1.2</td>\n",
       "    </tr>\n",
       "  </tbody>\n",
       "</table>\n",
       "</div>"
      ],
      "text/plain": [
       "           1    2\n",
       "Goodbye  2.1  2.2\n",
       "Hello    1.1  1.2"
      ]
     },
     "execution_count": 119,
     "metadata": {},
     "output_type": "execute_result"
    }
   ],
   "source": [
    "val_df = val.unstack()\n",
    "val_df"
   ]
  },
  {
   "cell_type": "code",
   "execution_count": 120,
   "id": "97b9366a-a717-4579-bb29-d32f1a524817",
   "metadata": {},
   "outputs": [
    {
     "data": {
      "text/plain": [
       "Goodbye  1    2.1\n",
       "         2    2.2\n",
       "Hello    1    1.1\n",
       "         2    1.2\n",
       "dtype: float64"
      ]
     },
     "execution_count": 120,
     "metadata": {},
     "output_type": "execute_result"
    }
   ],
   "source": [
    "val_df.stack()"
   ]
  },
  {
   "cell_type": "code",
   "execution_count": 130,
   "id": "3937baf3-3c09-4a01-96b3-3069eabb18e4",
   "metadata": {},
   "outputs": [
    {
     "data": {
      "text/html": [
       "<div>\n",
       "<style scoped>\n",
       "    .dataframe tbody tr th:only-of-type {\n",
       "        vertical-align: middle;\n",
       "    }\n",
       "\n",
       "    .dataframe tbody tr th {\n",
       "        vertical-align: top;\n",
       "    }\n",
       "\n",
       "    .dataframe thead th {\n",
       "        text-align: right;\n",
       "    }\n",
       "</style>\n",
       "<table border=\"1\" class=\"dataframe\">\n",
       "  <thead>\n",
       "    <tr style=\"text-align: right;\">\n",
       "      <th></th>\n",
       "      <th></th>\n",
       "      <th>first of all</th>\n",
       "      <th>then</th>\n",
       "    </tr>\n",
       "    <tr>\n",
       "      <th>greeting</th>\n",
       "      <th>times</th>\n",
       "      <th></th>\n",
       "      <th></th>\n",
       "    </tr>\n",
       "  </thead>\n",
       "  <tbody>\n",
       "    <tr>\n",
       "      <th rowspan=\"2\" valign=\"top\">Hello</th>\n",
       "      <th>1</th>\n",
       "      <td>1.1</td>\n",
       "      <td>1</td>\n",
       "    </tr>\n",
       "    <tr>\n",
       "      <th>2</th>\n",
       "      <td>1.2</td>\n",
       "      <td>2</td>\n",
       "    </tr>\n",
       "    <tr>\n",
       "      <th rowspan=\"2\" valign=\"top\">Goodbye</th>\n",
       "      <th>1</th>\n",
       "      <td>2.1</td>\n",
       "      <td>3</td>\n",
       "    </tr>\n",
       "    <tr>\n",
       "      <th>2</th>\n",
       "      <td>2.2</td>\n",
       "      <td>4</td>\n",
       "    </tr>\n",
       "  </tbody>\n",
       "</table>\n",
       "</div>"
      ],
      "text/plain": [
       "                first of all  then\n",
       "greeting times                    \n",
       "Hello    1               1.1     1\n",
       "         2               1.2     2\n",
       "Goodbye  1               2.1     3\n",
       "         2               2.2     4"
      ]
     },
     "execution_count": 130,
     "metadata": {},
     "output_type": "execute_result"
    }
   ],
   "source": [
    "val_df = pd.DataFrame ({'first of all': val,\n",
    "                       'then': [1,2,3,4]})\n",
    "val_df"
   ]
  },
  {
   "cell_type": "code",
   "execution_count": 131,
   "id": "3dc2fd82-10c9-4988-a0ac-a7fea6292a07",
   "metadata": {},
   "outputs": [
    {
     "ename": "KeyError",
     "evalue": "'[slice(None, None, None)] not in index'",
     "output_type": "error",
     "traceback": [
      "\u001b[31m---------------------------------------------------------------------------\u001b[39m",
      "\u001b[31mKeyError\u001b[39m                                  Traceback (most recent call last)",
      "\u001b[36mCell\u001b[39m\u001b[36m \u001b[39m\u001b[32mIn[131]\u001b[39m\u001b[32m, line 4\u001b[39m\n\u001b[32m      1\u001b[39m \u001b[38;5;66;03m#slicing these indexes\u001b[39;00m\n\u001b[32m      3\u001b[39m idx = pd.IndexSlice\n\u001b[32m----> \u001b[39m\u001b[32m4\u001b[39m \u001b[43mval_df\u001b[49m\u001b[43m.\u001b[49m\u001b[43mloc\u001b[49m\u001b[43m[\u001b[49m\u001b[43midx\u001b[49m\u001b[43m[\u001b[49m\u001b[43m:\u001b[49m\u001b[43m,\u001b[49m\u001b[43m \u001b[49m\u001b[32;43m1\u001b[39;49m\u001b[43m]\u001b[49m\u001b[43m,\u001b[49m\u001b[43m \u001b[49m\u001b[43midx\u001b[49m\u001b[43m[\u001b[49m\u001b[43m:\u001b[49m\u001b[43m,\u001b[49m\u001b[43m \u001b[49m\u001b[33;43m'\u001b[39;49m\u001b[33;43mthen\u001b[39;49m\u001b[33;43m'\u001b[39;49m\u001b[43m]\u001b[49m\u001b[43m]\u001b[49m\n",
      "\u001b[36mFile \u001b[39m\u001b[32m~/env/magpy/lib/python3.12/site-packages/pandas/core/indexing.py:1184\u001b[39m, in \u001b[36m_LocationIndexer.__getitem__\u001b[39m\u001b[34m(self, key)\u001b[39m\n\u001b[32m   1182\u001b[39m     \u001b[38;5;28;01mif\u001b[39;00m \u001b[38;5;28mself\u001b[39m._is_scalar_access(key):\n\u001b[32m   1183\u001b[39m         \u001b[38;5;28;01mreturn\u001b[39;00m \u001b[38;5;28mself\u001b[39m.obj._get_value(*key, takeable=\u001b[38;5;28mself\u001b[39m._takeable)\n\u001b[32m-> \u001b[39m\u001b[32m1184\u001b[39m     \u001b[38;5;28;01mreturn\u001b[39;00m \u001b[38;5;28;43mself\u001b[39;49m\u001b[43m.\u001b[49m\u001b[43m_getitem_tuple\u001b[49m\u001b[43m(\u001b[49m\u001b[43mkey\u001b[49m\u001b[43m)\u001b[49m\n\u001b[32m   1185\u001b[39m \u001b[38;5;28;01melse\u001b[39;00m:\n\u001b[32m   1186\u001b[39m     \u001b[38;5;66;03m# we by definition only have the 0th axis\u001b[39;00m\n\u001b[32m   1187\u001b[39m     axis = \u001b[38;5;28mself\u001b[39m.axis \u001b[38;5;129;01mor\u001b[39;00m \u001b[32m0\u001b[39m\n",
      "\u001b[36mFile \u001b[39m\u001b[32m~/env/magpy/lib/python3.12/site-packages/pandas/core/indexing.py:1368\u001b[39m, in \u001b[36m_LocIndexer._getitem_tuple\u001b[39m\u001b[34m(self, tup)\u001b[39m\n\u001b[32m   1366\u001b[39m \u001b[38;5;28;01mwith\u001b[39;00m suppress(IndexingError):\n\u001b[32m   1367\u001b[39m     tup = \u001b[38;5;28mself\u001b[39m._expand_ellipsis(tup)\n\u001b[32m-> \u001b[39m\u001b[32m1368\u001b[39m     \u001b[38;5;28;01mreturn\u001b[39;00m \u001b[38;5;28;43mself\u001b[39;49m\u001b[43m.\u001b[49m\u001b[43m_getitem_lowerdim\u001b[49m\u001b[43m(\u001b[49m\u001b[43mtup\u001b[49m\u001b[43m)\u001b[49m\n\u001b[32m   1370\u001b[39m \u001b[38;5;66;03m# no multi-index, so validate all of the indexers\u001b[39;00m\n\u001b[32m   1371\u001b[39m tup = \u001b[38;5;28mself\u001b[39m._validate_tuple_indexer(tup)\n",
      "\u001b[36mFile \u001b[39m\u001b[32m~/env/magpy/lib/python3.12/site-packages/pandas/core/indexing.py:1041\u001b[39m, in \u001b[36m_LocationIndexer._getitem_lowerdim\u001b[39m\u001b[34m(self, tup)\u001b[39m\n\u001b[32m   1039\u001b[39m \u001b[38;5;66;03m# we may have a nested tuples indexer here\u001b[39;00m\n\u001b[32m   1040\u001b[39m \u001b[38;5;28;01mif\u001b[39;00m \u001b[38;5;28mself\u001b[39m._is_nested_tuple_indexer(tup):\n\u001b[32m-> \u001b[39m\u001b[32m1041\u001b[39m     \u001b[38;5;28;01mreturn\u001b[39;00m \u001b[38;5;28;43mself\u001b[39;49m\u001b[43m.\u001b[49m\u001b[43m_getitem_nested_tuple\u001b[49m\u001b[43m(\u001b[49m\u001b[43mtup\u001b[49m\u001b[43m)\u001b[49m\n\u001b[32m   1043\u001b[39m \u001b[38;5;66;03m# we maybe be using a tuple to represent multiple dimensions here\u001b[39;00m\n\u001b[32m   1044\u001b[39m ax0 = \u001b[38;5;28mself\u001b[39m.obj._get_axis(\u001b[32m0\u001b[39m)\n",
      "\u001b[36mFile \u001b[39m\u001b[32m~/env/magpy/lib/python3.12/site-packages/pandas/core/indexing.py:1153\u001b[39m, in \u001b[36m_LocationIndexer._getitem_nested_tuple\u001b[39m\u001b[34m(self, tup)\u001b[39m\n\u001b[32m   1150\u001b[39m     axis -= \u001b[32m1\u001b[39m\n\u001b[32m   1151\u001b[39m     \u001b[38;5;28;01mcontinue\u001b[39;00m\n\u001b[32m-> \u001b[39m\u001b[32m1153\u001b[39m obj = \u001b[38;5;28;43mgetattr\u001b[39;49m\u001b[43m(\u001b[49m\u001b[43mobj\u001b[49m\u001b[43m,\u001b[49m\u001b[43m \u001b[49m\u001b[38;5;28;43mself\u001b[39;49m\u001b[43m.\u001b[49m\u001b[43mname\u001b[49m\u001b[43m)\u001b[49m\u001b[43m.\u001b[49m\u001b[43m_getitem_axis\u001b[49m\u001b[43m(\u001b[49m\u001b[43mkey\u001b[49m\u001b[43m,\u001b[49m\u001b[43m \u001b[49m\u001b[43maxis\u001b[49m\u001b[43m=\u001b[49m\u001b[43maxis\u001b[49m\u001b[43m)\u001b[49m\n\u001b[32m   1154\u001b[39m axis -= \u001b[32m1\u001b[39m\n\u001b[32m   1156\u001b[39m \u001b[38;5;66;03m# if we have a scalar, we are done\u001b[39;00m\n",
      "\u001b[36mFile \u001b[39m\u001b[32m~/env/magpy/lib/python3.12/site-packages/pandas/core/indexing.py:1420\u001b[39m, in \u001b[36m_LocIndexer._getitem_axis\u001b[39m\u001b[34m(self, key, axis)\u001b[39m\n\u001b[32m   1417\u001b[39m     \u001b[38;5;28;01mif\u001b[39;00m \u001b[38;5;28mhasattr\u001b[39m(key, \u001b[33m\"\u001b[39m\u001b[33mndim\u001b[39m\u001b[33m\"\u001b[39m) \u001b[38;5;129;01mand\u001b[39;00m key.ndim > \u001b[32m1\u001b[39m:\n\u001b[32m   1418\u001b[39m         \u001b[38;5;28;01mraise\u001b[39;00m \u001b[38;5;167;01mValueError\u001b[39;00m(\u001b[33m\"\u001b[39m\u001b[33mCannot index with multidimensional key\u001b[39m\u001b[33m\"\u001b[39m)\n\u001b[32m-> \u001b[39m\u001b[32m1420\u001b[39m     \u001b[38;5;28;01mreturn\u001b[39;00m \u001b[38;5;28;43mself\u001b[39;49m\u001b[43m.\u001b[49m\u001b[43m_getitem_iterable\u001b[49m\u001b[43m(\u001b[49m\u001b[43mkey\u001b[49m\u001b[43m,\u001b[49m\u001b[43m \u001b[49m\u001b[43maxis\u001b[49m\u001b[43m=\u001b[49m\u001b[43maxis\u001b[49m\u001b[43m)\u001b[49m\n\u001b[32m   1422\u001b[39m \u001b[38;5;66;03m# nested tuple slicing\u001b[39;00m\n\u001b[32m   1423\u001b[39m \u001b[38;5;28;01mif\u001b[39;00m is_nested_tuple(key, labels):\n",
      "\u001b[36mFile \u001b[39m\u001b[32m~/env/magpy/lib/python3.12/site-packages/pandas/core/indexing.py:1360\u001b[39m, in \u001b[36m_LocIndexer._getitem_iterable\u001b[39m\u001b[34m(self, key, axis)\u001b[39m\n\u001b[32m   1357\u001b[39m \u001b[38;5;28mself\u001b[39m._validate_key(key, axis)\n\u001b[32m   1359\u001b[39m \u001b[38;5;66;03m# A collection of keys\u001b[39;00m\n\u001b[32m-> \u001b[39m\u001b[32m1360\u001b[39m keyarr, indexer = \u001b[38;5;28;43mself\u001b[39;49m\u001b[43m.\u001b[49m\u001b[43m_get_listlike_indexer\u001b[49m\u001b[43m(\u001b[49m\u001b[43mkey\u001b[49m\u001b[43m,\u001b[49m\u001b[43m \u001b[49m\u001b[43maxis\u001b[49m\u001b[43m)\u001b[49m\n\u001b[32m   1361\u001b[39m \u001b[38;5;28;01mreturn\u001b[39;00m \u001b[38;5;28mself\u001b[39m.obj._reindex_with_indexers(\n\u001b[32m   1362\u001b[39m     {axis: [keyarr, indexer]}, copy=\u001b[38;5;28;01mTrue\u001b[39;00m, allow_dups=\u001b[38;5;28;01mTrue\u001b[39;00m\n\u001b[32m   1363\u001b[39m )\n",
      "\u001b[36mFile \u001b[39m\u001b[32m~/env/magpy/lib/python3.12/site-packages/pandas/core/indexing.py:1558\u001b[39m, in \u001b[36m_LocIndexer._get_listlike_indexer\u001b[39m\u001b[34m(self, key, axis)\u001b[39m\n\u001b[32m   1555\u001b[39m ax = \u001b[38;5;28mself\u001b[39m.obj._get_axis(axis)\n\u001b[32m   1556\u001b[39m axis_name = \u001b[38;5;28mself\u001b[39m.obj._get_axis_name(axis)\n\u001b[32m-> \u001b[39m\u001b[32m1558\u001b[39m keyarr, indexer = \u001b[43max\u001b[49m\u001b[43m.\u001b[49m\u001b[43m_get_indexer_strict\u001b[49m\u001b[43m(\u001b[49m\u001b[43mkey\u001b[49m\u001b[43m,\u001b[49m\u001b[43m \u001b[49m\u001b[43maxis_name\u001b[49m\u001b[43m)\u001b[49m\n\u001b[32m   1560\u001b[39m \u001b[38;5;28;01mreturn\u001b[39;00m keyarr, indexer\n",
      "\u001b[36mFile \u001b[39m\u001b[32m~/env/magpy/lib/python3.12/site-packages/pandas/core/indexes/base.py:6212\u001b[39m, in \u001b[36mIndex._get_indexer_strict\u001b[39m\u001b[34m(self, key, axis_name)\u001b[39m\n\u001b[32m   6209\u001b[39m \u001b[38;5;28;01melse\u001b[39;00m:\n\u001b[32m   6210\u001b[39m     keyarr, indexer, new_indexer = \u001b[38;5;28mself\u001b[39m._reindex_non_unique(keyarr)\n\u001b[32m-> \u001b[39m\u001b[32m6212\u001b[39m \u001b[38;5;28;43mself\u001b[39;49m\u001b[43m.\u001b[49m\u001b[43m_raise_if_missing\u001b[49m\u001b[43m(\u001b[49m\u001b[43mkeyarr\u001b[49m\u001b[43m,\u001b[49m\u001b[43m \u001b[49m\u001b[43mindexer\u001b[49m\u001b[43m,\u001b[49m\u001b[43m \u001b[49m\u001b[43maxis_name\u001b[49m\u001b[43m)\u001b[49m\n\u001b[32m   6214\u001b[39m keyarr = \u001b[38;5;28mself\u001b[39m.take(indexer)\n\u001b[32m   6215\u001b[39m \u001b[38;5;28;01mif\u001b[39;00m \u001b[38;5;28misinstance\u001b[39m(key, Index):\n\u001b[32m   6216\u001b[39m     \u001b[38;5;66;03m# GH 42790 - Preserve name from an Index\u001b[39;00m\n",
      "\u001b[36mFile \u001b[39m\u001b[32m~/env/magpy/lib/python3.12/site-packages/pandas/core/indexes/base.py:6264\u001b[39m, in \u001b[36mIndex._raise_if_missing\u001b[39m\u001b[34m(self, key, indexer, axis_name)\u001b[39m\n\u001b[32m   6261\u001b[39m     \u001b[38;5;28;01mraise\u001b[39;00m \u001b[38;5;167;01mKeyError\u001b[39;00m(\u001b[33mf\u001b[39m\u001b[33m\"\u001b[39m\u001b[33mNone of [\u001b[39m\u001b[38;5;132;01m{\u001b[39;00mkey\u001b[38;5;132;01m}\u001b[39;00m\u001b[33m] are in the [\u001b[39m\u001b[38;5;132;01m{\u001b[39;00maxis_name\u001b[38;5;132;01m}\u001b[39;00m\u001b[33m]\u001b[39m\u001b[33m\"\u001b[39m)\n\u001b[32m   6263\u001b[39m not_found = \u001b[38;5;28mlist\u001b[39m(ensure_index(key)[missing_mask.nonzero()[\u001b[32m0\u001b[39m]].unique())\n\u001b[32m-> \u001b[39m\u001b[32m6264\u001b[39m \u001b[38;5;28;01mraise\u001b[39;00m \u001b[38;5;167;01mKeyError\u001b[39;00m(\u001b[33mf\u001b[39m\u001b[33m\"\u001b[39m\u001b[38;5;132;01m{\u001b[39;00mnot_found\u001b[38;5;132;01m}\u001b[39;00m\u001b[33m not in index\u001b[39m\u001b[33m\"\u001b[39m)\n",
      "\u001b[31mKeyError\u001b[39m: '[slice(None, None, None)] not in index'"
     ]
    }
   ],
   "source": [
    "#slicing these indexes\n",
    "\n",
    "idx = pd.IndexSlice\n",
    "val_df.loc[idx[:, 1], idx[:, 'then']]"
   ]
  },
  {
   "cell_type": "code",
   "execution_count": 122,
   "id": "c38c2f31-c420-4cc1-a24b-3227adf0db05",
   "metadata": {},
   "outputs": [
    {
     "data": {
      "text/plain": [
       "greeting  times\n",
       "Hello     1        1.1\n",
       "          2        1.2\n",
       "Goodbye   1        2.1\n",
       "          2        2.2\n",
       "dtype: float64"
      ]
     },
     "execution_count": 122,
     "metadata": {},
     "output_type": "execute_result"
    }
   ],
   "source": [
    "val.index.names = ['greeting','times']\n",
    "val"
   ]
  },
  {
   "cell_type": "code",
   "execution_count": 125,
   "id": "bd5022ec-598f-48b9-ace9-db2c56eeec4c",
   "metadata": {},
   "outputs": [
    {
     "data": {
      "text/html": [
       "<div>\n",
       "<style scoped>\n",
       "    .dataframe tbody tr th:only-of-type {\n",
       "        vertical-align: middle;\n",
       "    }\n",
       "\n",
       "    .dataframe tbody tr th {\n",
       "        vertical-align: top;\n",
       "    }\n",
       "\n",
       "    .dataframe thead th {\n",
       "        text-align: right;\n",
       "    }\n",
       "</style>\n",
       "<table border=\"1\" class=\"dataframe\">\n",
       "  <thead>\n",
       "    <tr style=\"text-align: right;\">\n",
       "      <th>times</th>\n",
       "      <th>1</th>\n",
       "      <th>2</th>\n",
       "    </tr>\n",
       "    <tr>\n",
       "      <th>greeting</th>\n",
       "      <th></th>\n",
       "      <th></th>\n",
       "    </tr>\n",
       "  </thead>\n",
       "  <tbody>\n",
       "    <tr>\n",
       "      <th>Goodbye</th>\n",
       "      <td>2.1</td>\n",
       "      <td>2.2</td>\n",
       "    </tr>\n",
       "    <tr>\n",
       "      <th>Hello</th>\n",
       "      <td>1.1</td>\n",
       "      <td>1.2</td>\n",
       "    </tr>\n",
       "  </tbody>\n",
       "</table>\n",
       "</div>"
      ],
      "text/plain": [
       "times       1    2\n",
       "greeting          \n",
       "Goodbye   2.1  2.2\n",
       "Hello     1.1  1.2"
      ]
     },
     "execution_count": 125,
     "metadata": {},
     "output_type": "execute_result"
    }
   ],
   "source": [
    "val_df = val.unstack()\n",
    "val_df"
   ]
  },
  {
   "cell_type": "code",
   "execution_count": null,
   "id": "9172b6ed-17c0-4143-bc06-f69ab4c1ba13",
   "metadata": {},
   "outputs": [],
   "source": [
    "\n",
    "a = 30\n",
    "b = 20\n",
    "\n",
    "\n",
    "if a>b:\n",
    "    família.loc['Arnau','age']=40\n",
    "else:\n",
    "    família.loc['Arnau','age']=3\n",
    "\n",
    "família"
   ]
  },
  {
   "cell_type": "code",
   "execution_count": null,
   "id": "328f75c1-b2be-4160-9af2-0f412203e912",
   "metadata": {},
   "outputs": [],
   "source": [
    "# Operations\n",
    "\n",
    "# using np functions allow you to have fill_value option, for example\n",
    "\n",
    "A= pd.Series ([2,4,6], index=[0,1,2])\n",
    "B=pd.Series ([1,3,5], index=[1,2,3])\n",
    "\n",
    "A.add(B, fill_value=0)"
   ]
  },
  {
   "cell_type": "code",
   "execution_count": null,
   "id": "df87e224-5ba2-4b17-8269-9c4f64e30203",
   "metadata": {},
   "outputs": [],
   "source": [
    "#Python Operator \tPandas Method(s)\n",
    "# + \t            add()\n",
    "# -  \t            sub(), subtract()\n",
    "# * \t            mul(), multiply()\n",
    "# / \t            truediv(), div(), divide()\n",
    "# // \t            floordiv()\n",
    "# % \t            mod()\n",
    "# ** \t            pow()"
   ]
  },
  {
   "cell_type": "code",
   "execution_count": 106,
   "id": "56455ff2-dc88-475c-8185-1c629c328c67",
   "metadata": {},
   "outputs": [
    {
     "data": {
      "text/html": [
       "<div>\n",
       "<style scoped>\n",
       "    .dataframe tbody tr th:only-of-type {\n",
       "        vertical-align: middle;\n",
       "    }\n",
       "\n",
       "    .dataframe tbody tr th {\n",
       "        vertical-align: top;\n",
       "    }\n",
       "\n",
       "    .dataframe thead th {\n",
       "        text-align: right;\n",
       "    }\n",
       "</style>\n",
       "<table border=\"1\" class=\"dataframe\">\n",
       "  <thead>\n",
       "    <tr style=\"text-align: right;\">\n",
       "      <th></th>\n",
       "      <th>age</th>\n",
       "      <th>Gender</th>\n",
       "      <th>short gender</th>\n",
       "    </tr>\n",
       "  </thead>\n",
       "  <tbody>\n",
       "    <tr>\n",
       "      <th>Arnau</th>\n",
       "      <td>13</td>\n",
       "      <td>home</td>\n",
       "      <td>H</td>\n",
       "    </tr>\n",
       "    <tr>\n",
       "      <th>Joan</th>\n",
       "      <td>54</td>\n",
       "      <td>home</td>\n",
       "      <td>H</td>\n",
       "    </tr>\n",
       "    <tr>\n",
       "      <th>Marina</th>\n",
       "      <td>18</td>\n",
       "      <td>dona</td>\n",
       "      <td>D</td>\n",
       "    </tr>\n",
       "    <tr>\n",
       "      <th>Nuri</th>\n",
       "      <td>48</td>\n",
       "      <td>dona</td>\n",
       "      <td>D</td>\n",
       "    </tr>\n",
       "  </tbody>\n",
       "</table>\n",
       "</div>"
      ],
      "text/plain": [
       "        age Gender short gender\n",
       "Arnau    13   home            H\n",
       "Joan     54   home            H\n",
       "Marina   18   dona            D\n",
       "Nuri     48   dona            D"
      ]
     },
     "execution_count": 106,
     "metadata": {},
     "output_type": "execute_result"
    }
   ],
   "source": [
    "#RENAME FUNCTION\n",
    "\n",
    "família_renamed = família.rename(columns={'gender':'Gender'})\n",
    "família_renamed"
   ]
  },
  {
   "cell_type": "code",
   "execution_count": 82,
   "id": "3d3583f7-8d1d-45d5-9085-061d59f28edc",
   "metadata": {},
   "outputs": [
    {
     "data": {
      "text/html": [
       "<div>\n",
       "<style scoped>\n",
       "    .dataframe tbody tr th:only-of-type {\n",
       "        vertical-align: middle;\n",
       "    }\n",
       "\n",
       "    .dataframe tbody tr th {\n",
       "        vertical-align: top;\n",
       "    }\n",
       "\n",
       "    .dataframe thead th {\n",
       "        text-align: right;\n",
       "    }\n",
       "</style>\n",
       "<table border=\"1\" class=\"dataframe\">\n",
       "  <thead>\n",
       "    <tr style=\"text-align: right;\">\n",
       "      <th></th>\n",
       "      <th>age</th>\n",
       "    </tr>\n",
       "  </thead>\n",
       "  <tbody>\n",
       "    <tr>\n",
       "      <th>Arnau</th>\n",
       "      <td>14</td>\n",
       "    </tr>\n",
       "    <tr>\n",
       "      <th>Joan</th>\n",
       "      <td>55</td>\n",
       "    </tr>\n",
       "    <tr>\n",
       "      <th>Marina</th>\n",
       "      <td>19</td>\n",
       "    </tr>\n",
       "    <tr>\n",
       "      <th>Nuri</th>\n",
       "      <td>49</td>\n",
       "    </tr>\n",
       "  </tbody>\n",
       "</table>\n",
       "</div>"
      ],
      "text/plain": [
       "        age\n",
       "Arnau    14\n",
       "Joan     55\n",
       "Marina   19\n",
       "Nuri     49"
      ]
     },
     "execution_count": 82,
     "metadata": {},
     "output_type": "execute_result"
    }
   ],
   "source": [
    "#APPLY FUNCTION\n",
    "\n",
    "#you can define a function and apply it to some columns --> pd[['name of column']].apply(function)\n",
    "#lambda functions: you can apply them direclty without defining them forehand\n",
    "\n",
    "família[['age']].apply(lambda x:x+1, axis=0)"
   ]
  },
  {
   "cell_type": "code",
   "execution_count": 84,
   "id": "23f54827-90e1-40c2-8c0e-c27db2cd621d",
   "metadata": {},
   "outputs": [
    {
     "data": {
      "text/html": [
       "<div>\n",
       "<style scoped>\n",
       "    .dataframe tbody tr th:only-of-type {\n",
       "        vertical-align: middle;\n",
       "    }\n",
       "\n",
       "    .dataframe tbody tr th {\n",
       "        vertical-align: top;\n",
       "    }\n",
       "\n",
       "    .dataframe thead th {\n",
       "        text-align: right;\n",
       "    }\n",
       "</style>\n",
       "<table border=\"1\" class=\"dataframe\">\n",
       "  <thead>\n",
       "    <tr style=\"text-align: right;\">\n",
       "      <th></th>\n",
       "      <th>age</th>\n",
       "      <th>gender</th>\n",
       "      <th>short gender</th>\n",
       "    </tr>\n",
       "  </thead>\n",
       "  <tbody>\n",
       "    <tr>\n",
       "      <th>Arnau</th>\n",
       "      <td>13</td>\n",
       "      <td>home</td>\n",
       "      <td>H</td>\n",
       "    </tr>\n",
       "    <tr>\n",
       "      <th>Joan</th>\n",
       "      <td>54</td>\n",
       "      <td>home</td>\n",
       "      <td>H</td>\n",
       "    </tr>\n",
       "    <tr>\n",
       "      <th>Marina</th>\n",
       "      <td>18</td>\n",
       "      <td>dona</td>\n",
       "      <td>D</td>\n",
       "    </tr>\n",
       "    <tr>\n",
       "      <th>Nuri</th>\n",
       "      <td>48</td>\n",
       "      <td>dona</td>\n",
       "      <td>D</td>\n",
       "    </tr>\n",
       "  </tbody>\n",
       "</table>\n",
       "</div>"
      ],
      "text/plain": [
       "        age gender short gender\n",
       "Arnau    13   home            H\n",
       "Joan     54   home            H\n",
       "Marina   18   dona            D\n",
       "Nuri     48   dona            D"
      ]
     },
     "execution_count": 84,
     "metadata": {},
     "output_type": "execute_result"
    }
   ],
   "source": [
    "#MAP FUNCTION\n",
    "\n",
    "map_gender = {'home':'H', 'dona':'D'}\n",
    "família['short gender'] = família['gender'].map(map_gender)\n",
    "família"
   ]
  },
  {
   "cell_type": "code",
   "execution_count": 88,
   "id": "37c173b1-8c84-42e7-a71e-ebf583e9f1b2",
   "metadata": {},
   "outputs": [
    {
     "data": {
      "text/html": [
       "<div>\n",
       "<style scoped>\n",
       "    .dataframe tbody tr th:only-of-type {\n",
       "        vertical-align: middle;\n",
       "    }\n",
       "\n",
       "    .dataframe tbody tr th {\n",
       "        vertical-align: top;\n",
       "    }\n",
       "\n",
       "    .dataframe thead th {\n",
       "        text-align: right;\n",
       "    }\n",
       "</style>\n",
       "<table border=\"1\" class=\"dataframe\">\n",
       "  <thead>\n",
       "    <tr style=\"text-align: right;\">\n",
       "      <th></th>\n",
       "      <th>age</th>\n",
       "      <th>gender</th>\n",
       "    </tr>\n",
       "  </thead>\n",
       "  <tbody>\n",
       "    <tr>\n",
       "      <th>Arnau</th>\n",
       "      <td>13</td>\n",
       "      <td>home</td>\n",
       "    </tr>\n",
       "    <tr>\n",
       "      <th>Joan</th>\n",
       "      <td>54</td>\n",
       "      <td>home</td>\n",
       "    </tr>\n",
       "    <tr>\n",
       "      <th>Marina</th>\n",
       "      <td>18</td>\n",
       "      <td>dona</td>\n",
       "    </tr>\n",
       "    <tr>\n",
       "      <th>Nuri</th>\n",
       "      <td>48</td>\n",
       "      <td>dona</td>\n",
       "    </tr>\n",
       "  </tbody>\n",
       "</table>\n",
       "</div>"
      ],
      "text/plain": [
       "        age gender\n",
       "Arnau    13   home\n",
       "Joan     54   home\n",
       "Marina   18   dona\n",
       "Nuri     48   dona"
      ]
     },
     "execution_count": 88,
     "metadata": {},
     "output_type": "execute_result"
    }
   ],
   "source": [
    "#DROP FUNCTION\n",
    "nova_família = família.drop('short gender', axis=1)\n",
    "nova_família"
   ]
  },
  {
   "cell_type": "code",
   "execution_count": 90,
   "id": "5da92776-d785-4644-8143-b34a1f273748",
   "metadata": {},
   "outputs": [
    {
     "data": {
      "text/plain": [
       "array([13, 54, 18, 48])"
      ]
     },
     "execution_count": 90,
     "metadata": {},
     "output_type": "execute_result"
    }
   ],
   "source": [
    "#UNIQUE FUNCTION\n",
    "família.age.unique()"
   ]
  },
  {
   "cell_type": "code",
   "execution_count": 91,
   "id": "5f5b662b-5d4f-450f-8224-0bf58fc8f82e",
   "metadata": {},
   "outputs": [
    {
     "data": {
      "text/plain": [
       "age\n",
       "13    1\n",
       "54    1\n",
       "18    1\n",
       "48    1\n",
       "Name: count, dtype: int64"
      ]
     },
     "execution_count": 91,
     "metadata": {},
     "output_type": "execute_result"
    }
   ],
   "source": [
    "#VALUE_COUNTS FUNCTION\n",
    "família.age.value_counts()"
   ]
  },
  {
   "cell_type": "code",
   "execution_count": 92,
   "id": "c22c9ef3-e256-4cdd-97bf-985b0497c938",
   "metadata": {},
   "outputs": [
    {
     "data": {
      "text/html": [
       "<div>\n",
       "<style scoped>\n",
       "    .dataframe tbody tr th:only-of-type {\n",
       "        vertical-align: middle;\n",
       "    }\n",
       "\n",
       "    .dataframe tbody tr th {\n",
       "        vertical-align: top;\n",
       "    }\n",
       "\n",
       "    .dataframe thead th {\n",
       "        text-align: right;\n",
       "    }\n",
       "</style>\n",
       "<table border=\"1\" class=\"dataframe\">\n",
       "  <thead>\n",
       "    <tr style=\"text-align: right;\">\n",
       "      <th></th>\n",
       "      <th>age</th>\n",
       "      <th>gender</th>\n",
       "      <th>short gender</th>\n",
       "    </tr>\n",
       "  </thead>\n",
       "  <tbody>\n",
       "    <tr>\n",
       "      <th>Arnau</th>\n",
       "      <td>13</td>\n",
       "      <td>home</td>\n",
       "      <td>H</td>\n",
       "    </tr>\n",
       "    <tr>\n",
       "      <th>Joan</th>\n",
       "      <td>54</td>\n",
       "      <td>home</td>\n",
       "      <td>H</td>\n",
       "    </tr>\n",
       "  </tbody>\n",
       "</table>\n",
       "</div>"
      ],
      "text/plain": [
       "       age gender short gender\n",
       "Arnau   13   home            H\n",
       "Joan    54   home            H"
      ]
     },
     "execution_count": 92,
     "metadata": {},
     "output_type": "execute_result"
    }
   ],
   "source": [
    "#ISIN FUNCTION\n",
    "home_gender = família.loc[família.gender.isin(['home']),:]\n",
    "home_gender"
   ]
  },
  {
   "cell_type": "code",
   "execution_count": 94,
   "id": "548b58d7-d5de-49b8-95dc-50478c038c3b",
   "metadata": {},
   "outputs": [
    {
     "data": {
      "text/html": [
       "<div>\n",
       "<style scoped>\n",
       "    .dataframe tbody tr th:only-of-type {\n",
       "        vertical-align: middle;\n",
       "    }\n",
       "\n",
       "    .dataframe tbody tr th {\n",
       "        vertical-align: top;\n",
       "    }\n",
       "\n",
       "    .dataframe thead th {\n",
       "        text-align: right;\n",
       "    }\n",
       "</style>\n",
       "<table border=\"1\" class=\"dataframe\">\n",
       "  <thead>\n",
       "    <tr style=\"text-align: right;\">\n",
       "      <th></th>\n",
       "      <th>gender</th>\n",
       "    </tr>\n",
       "  </thead>\n",
       "  <tbody>\n",
       "    <tr>\n",
       "      <th>Marina</th>\n",
       "      <td>dona</td>\n",
       "    </tr>\n",
       "    <tr>\n",
       "      <th>Nuri</th>\n",
       "      <td>dona</td>\n",
       "    </tr>\n",
       "  </tbody>\n",
       "</table>\n",
       "</div>"
      ],
      "text/plain": [
       "       gender\n",
       "Marina   dona\n",
       "Nuri     dona"
      ]
     },
     "execution_count": 94,
     "metadata": {},
     "output_type": "execute_result"
    }
   ],
   "source": [
    "#Data manipulation\n",
    "\n",
    "#subsetting (selecting rows and columns)\n",
    "\n",
    "dones = família.loc[família.gender.isin(['dona']), ['gender']]\n",
    "dones"
   ]
  },
  {
   "cell_type": "code",
   "execution_count": 96,
   "id": "d8d4ec62-007e-494b-8dc6-996410d7fffb",
   "metadata": {},
   "outputs": [
    {
     "data": {
      "text/html": [
       "<div>\n",
       "<style scoped>\n",
       "    .dataframe tbody tr th:only-of-type {\n",
       "        vertical-align: middle;\n",
       "    }\n",
       "\n",
       "    .dataframe tbody tr th {\n",
       "        vertical-align: top;\n",
       "    }\n",
       "\n",
       "    .dataframe thead th {\n",
       "        text-align: right;\n",
       "    }\n",
       "</style>\n",
       "<table border=\"1\" class=\"dataframe\">\n",
       "  <thead>\n",
       "    <tr style=\"text-align: right;\">\n",
       "      <th></th>\n",
       "      <th>age</th>\n",
       "      <th>gender</th>\n",
       "      <th>short gender</th>\n",
       "    </tr>\n",
       "    <tr>\n",
       "      <th>gender</th>\n",
       "      <th></th>\n",
       "      <th></th>\n",
       "      <th></th>\n",
       "    </tr>\n",
       "  </thead>\n",
       "  <tbody>\n",
       "    <tr>\n",
       "      <th>home</th>\n",
       "      <td>13</td>\n",
       "      <td>home</td>\n",
       "      <td>H</td>\n",
       "    </tr>\n",
       "    <tr>\n",
       "      <th>home</th>\n",
       "      <td>54</td>\n",
       "      <td>home</td>\n",
       "      <td>H</td>\n",
       "    </tr>\n",
       "    <tr>\n",
       "      <th>dona</th>\n",
       "      <td>18</td>\n",
       "      <td>dona</td>\n",
       "      <td>D</td>\n",
       "    </tr>\n",
       "    <tr>\n",
       "      <th>dona</th>\n",
       "      <td>48</td>\n",
       "      <td>dona</td>\n",
       "      <td>D</td>\n",
       "    </tr>\n",
       "  </tbody>\n",
       "</table>\n",
       "</div>"
      ],
      "text/plain": [
       "        age gender short gender\n",
       "gender                         \n",
       "home     13   home            H\n",
       "home     54   home            H\n",
       "dona     18   dona            D\n",
       "dona     48   dona            D"
      ]
     },
     "execution_count": 96,
     "metadata": {},
     "output_type": "execute_result"
    }
   ],
   "source": [
    "#replacing index\n",
    "\n",
    "gender_index = família.set_index(keys=família['gender'])\n",
    "gender_index"
   ]
  },
  {
   "cell_type": "code",
   "execution_count": 100,
   "id": "b61ab2e1-7a49-4181-85c2-1240f0347a66",
   "metadata": {},
   "outputs": [
    {
     "data": {
      "text/html": [
       "<div>\n",
       "<style scoped>\n",
       "    .dataframe tbody tr th:only-of-type {\n",
       "        vertical-align: middle;\n",
       "    }\n",
       "\n",
       "    .dataframe tbody tr th {\n",
       "        vertical-align: top;\n",
       "    }\n",
       "\n",
       "    .dataframe thead th {\n",
       "        text-align: right;\n",
       "    }\n",
       "</style>\n",
       "<table border=\"1\" class=\"dataframe\">\n",
       "  <thead>\n",
       "    <tr style=\"text-align: right;\">\n",
       "      <th></th>\n",
       "      <th>age</th>\n",
       "      <th>gender</th>\n",
       "      <th>short gender</th>\n",
       "    </tr>\n",
       "  </thead>\n",
       "  <tbody>\n",
       "    <tr>\n",
       "      <th>Arnau</th>\n",
       "      <td>13</td>\n",
       "      <td>home</td>\n",
       "      <td>H</td>\n",
       "    </tr>\n",
       "    <tr>\n",
       "      <th>Marina</th>\n",
       "      <td>18</td>\n",
       "      <td>dona</td>\n",
       "      <td>D</td>\n",
       "    </tr>\n",
       "    <tr>\n",
       "      <th>Nuri</th>\n",
       "      <td>48</td>\n",
       "      <td>dona</td>\n",
       "      <td>D</td>\n",
       "    </tr>\n",
       "    <tr>\n",
       "      <th>Joan</th>\n",
       "      <td>54</td>\n",
       "      <td>home</td>\n",
       "      <td>H</td>\n",
       "    </tr>\n",
       "  </tbody>\n",
       "</table>\n",
       "</div>"
      ],
      "text/plain": [
       "        age gender short gender\n",
       "Arnau    13   home            H\n",
       "Marina   18   dona            D\n",
       "Nuri     48   dona            D\n",
       "Joan     54   home            H"
      ]
     },
     "execution_count": 100,
     "metadata": {},
     "output_type": "execute_result"
    }
   ],
   "source": [
    "#sorting (ordering)\n",
    "\n",
    "família_sorted = família.sort_values(by = 'age', ascending=True)\n",
    "família_sorted.head()"
   ]
  },
  {
   "cell_type": "code",
   "execution_count": 103,
   "id": "0b6cb416-ac5c-458d-836b-638d795e453f",
   "metadata": {},
   "outputs": [
    {
     "data": {
      "text/html": [
       "<div>\n",
       "<style scoped>\n",
       "    .dataframe tbody tr th:only-of-type {\n",
       "        vertical-align: middle;\n",
       "    }\n",
       "\n",
       "    .dataframe tbody tr th {\n",
       "        vertical-align: top;\n",
       "    }\n",
       "\n",
       "    .dataframe thead th {\n",
       "        text-align: right;\n",
       "    }\n",
       "</style>\n",
       "<table border=\"1\" class=\"dataframe\">\n",
       "  <thead>\n",
       "    <tr style=\"text-align: right;\">\n",
       "      <th></th>\n",
       "      <th>age</th>\n",
       "      <th>gender</th>\n",
       "      <th>short gender</th>\n",
       "      <th>oldest</th>\n",
       "    </tr>\n",
       "  </thead>\n",
       "  <tbody>\n",
       "    <tr>\n",
       "      <th>Arnau</th>\n",
       "      <td>13</td>\n",
       "      <td>home</td>\n",
       "      <td>H</td>\n",
       "      <td>4.0</td>\n",
       "    </tr>\n",
       "    <tr>\n",
       "      <th>Joan</th>\n",
       "      <td>54</td>\n",
       "      <td>home</td>\n",
       "      <td>H</td>\n",
       "      <td>1.0</td>\n",
       "    </tr>\n",
       "    <tr>\n",
       "      <th>Marina</th>\n",
       "      <td>18</td>\n",
       "      <td>dona</td>\n",
       "      <td>D</td>\n",
       "      <td>3.0</td>\n",
       "    </tr>\n",
       "    <tr>\n",
       "      <th>Nuri</th>\n",
       "      <td>48</td>\n",
       "      <td>dona</td>\n",
       "      <td>D</td>\n",
       "      <td>2.0</td>\n",
       "    </tr>\n",
       "  </tbody>\n",
       "</table>\n",
       "</div>"
      ],
      "text/plain": [
       "        age gender short gender  oldest\n",
       "Arnau    13   home            H     4.0\n",
       "Joan     54   home            H     1.0\n",
       "Marina   18   dona            D     3.0\n",
       "Nuri     48   dona            D     2.0"
      ]
     },
     "execution_count": 103,
     "metadata": {},
     "output_type": "execute_result"
    }
   ],
   "source": [
    "#ranking\n",
    "\n",
    "família_ranked = família.copy()\n",
    "família_ranked['oldest']=família_sorted['age'].rank(ascending = False)\n",
    "\n",
    "família_ranked\n",
    "#parameters inside of this function (axis, method, numeric_only=F/T, na_option='keep'/'top'/'bottom', ascending, pct=T/F - percent-)"
   ]
  },
  {
   "cell_type": "code",
   "execution_count": 108,
   "id": "d0ef26a9-aa0a-4b70-9cf9-4aa464097eac",
   "metadata": {},
   "outputs": [],
   "source": [
    "# correlation (must be in float)\n",
    "\n",
    "# df.corr()\n",
    "# df.corrwith(df.column).sort_values(ascending=False)"
   ]
  },
  {
   "cell_type": "markdown",
   "id": "1976d9c1-6961-4f1a-8253-b57acd6bd94c",
   "metadata": {},
   "source": [
    "# Challenge"
   ]
  },
  {
   "cell_type": "code",
   "execution_count": null,
   "id": "8f7fafbb-b56c-475e-9ced-b6ec4a18fdc9",
   "metadata": {},
   "outputs": [],
   "source": [
    "#stuff needed\n",
    "\n",
    "\n",
    "#df.groupby('columntitle')"
   ]
  },
  {
   "cell_type": "code",
   "execution_count": null,
   "id": "284a2c50-1c1b-41ea-9964-e527917fdb2e",
   "metadata": {},
   "outputs": [],
   "source": [
    "#for (columntitle, group) in nameofdatafile.groupby('columntitle'):\n",
    "   # print(\"{0:30s} shape={1}\".format(columntitle, group.shape))\n",
    "\n",
    "\n",
    "#df.groupby('key').apply(norm_by_data2 FUNCTION)\n",
    "\n",
    "#imrangeglobal = pd.cut(cme_hit['imrangeglobaö'], [0, 18, 80])\n",
    "#titanic.pivot_table('survived', ['sex', age], 'class')"
   ]
  }
 ],
 "metadata": {
  "kernelspec": {
   "display_name": "Python 3 (ipykernel)",
   "language": "python",
   "name": "python3"
  },
  "language_info": {
   "codemirror_mode": {
    "name": "ipython",
    "version": 3
   },
   "file_extension": ".py",
   "mimetype": "text/x-python",
   "name": "python",
   "nbconvert_exporter": "python",
   "pygments_lexer": "ipython3",
   "version": "3.12.3"
  }
 },
 "nbformat": 4,
 "nbformat_minor": 5
}
